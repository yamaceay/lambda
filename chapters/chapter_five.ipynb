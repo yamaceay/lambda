{
 "cells": [
  {
   "cell_type": "markdown",
   "metadata": {},
   "source": [
    "### 5.1. The Missing Extension\n",
    "\n",
    "$\\lambda x : A . M$ where $M$ is now a set (e.g. $S_n = 0, n, 2n, …$) or a proposition (e.g. $P_n = $\"n is a prime number\"). Then $\\lambda n : nat . M : *$ is another type."
   ]
  },
  {
   "cell_type": "markdown",
   "metadata": {},
   "source": [
    "$\\lambda P$ with P as predicate"
   ]
  },
  {
   "cell_type": "markdown",
   "metadata": {},
   "source": [
    "### 5.2. Derivation rules of $\\lambda P$\n",
    "\n",
    "(sort) $\\{\\} \\vdash * : \\square$\n",
    "\n",
    "(var) $(\\Gamma \\vdash A : s) \\implies (\\Gamma, x : A \\vdash x : A)$ if $x \\notin \\Gamma$\n",
    "\n",
    "(weak) $(\\Gamma \\vdash A : B) \\land (\\Gamma \\vdash C : s) \\implies (\\Gamma, x : C \\vdash A : B)$ if $x \\notin \\Gamma$\n",
    "\n",
    "(form) $(\\Gamma \\vdash A : *) \\land (\\Gamma, x : A \\vdash B : s) \\implies (\\Gamma \\vdash \\Pi x : A . B : s)$\n",
    "\n",
    "(appl) $(\\Gamma \\vdash M : \\Pi x : A . B) \\land (\\Gamma \\vdash N : A) \\implies (\\Gamma : MN : B[x := N])$\n",
    "\n",
    "(abst) $(\\Gamma, x : A \\vdash M : B) \\land (\\Gamma \\vdash \\Pi x : A . B : s) \\implies (\\Gamma \\vdash \\lambda x : A . M : \\Pi x : A . B)$\n",
    "\n",
    "(conv) $(\\Gamma \\vdash A : B) \\land (\\Gamma \\vdash B' : s) \\implies (\\Gamma \\vdash A : B')$ if $B \\equiv_\\beta B'$"
   ]
  },
  {
   "cell_type": "markdown",
   "metadata": {},
   "source": [
    "The Formation rule is also called the Product rule, since it enables the construction and typing of a $\\Pi$-type. It is also called the Cartesian product of a family of types. If one considers A to be a finite type, say with two elements $a_1$ and $a_2$, then $\\Pi x : A . B$ is indeed the same as $B[x := a_1] \\times B[x := a_2]$. $\\Pi$-types can be seen as a generalization of the Cartesian product and as a generalization of the function space (if $x \\notin FV(B)$, then $\\Pi x : A . B$ is just $A \\to B$)"
   ]
  },
  {
   "cell_type": "markdown",
   "metadata": {},
   "source": [
    "### 5.3. Derivation Example\n",
    "\n",
    "Questions:\n",
    "\n",
    "1. Well-typedness: Find out whether $\\lambda x : A . \\lambda y : Px . y$ is well-typed\n",
    "2. Type Checking: Check that $A : *, P : A \\to * \\vdash \\lambda x : A . \\lambda y : P x  . y : \\Pi x : A . P x \\to P x$\n",
    "3. Term Finding: Find a term of type $\\Pi x : A . P x \\to P x$ in the context $A : * , P : A \\to *$"
   ]
  },
  {
   "cell_type": "markdown",
   "metadata": {},
   "source": [
    "### 5.4. Minimal Predicate Logic in $\\lambda P$"
   ]
  },
  {
   "cell_type": "markdown",
   "metadata": {},
   "source": [
    "Implication and universal quantification as logical operations. Basic entities: Propositions, sets, predicates over sets.\n",
    "* If a term b inhabits type B, where B is interpreted as a proposition, then we interpret b as a proof of B. Such a term b in type theory is called a proof object. \n",
    "* On the other hand, when no inhabitant of the proposition B exists, then there exists no proof of B, so B must be false."
   ]
  },
  {
   "cell_type": "markdown",
   "metadata": {},
   "source": [
    "The propositions A and B are independent, hence we may write $A \\to B$ in case of an implication, instead of $\\Pi x : A . B$, because x cannot occur free in B."
   ]
  },
  {
   "cell_type": "markdown",
   "metadata": {},
   "source": [
    "1. Sets: We code a set $S$ as a type $S : *$. Elements of sets are terms. If $a$ is an element of set $S$, then $a : S$. If $S$ is an empty set, then no derivable term $a$ with $a : S$\n",
    "2. Propositions: We code propositions as types. If $A$ is a proposition, then $A : *$. A term $p$ inhabiting such $A$ codes a proof of $A$. If $A$ is a true proposition, $p$ being a proof of $A$, then $p : A$.\n",
    "3. Predicates: A predicate $P$ is a function from a set $S$ to the set of all propositions. $P : S \\to *$. Then for each $a : S$ we have the proposition $P a : *$ of types (level 2), so each $P a$ may be inhibited.\n",
    "    1. If $P a$ is inhabited, so $t : P a$ for some $t$ then the predicate holds for $a$. \n",
    "    2. Otherwise the predicate does not hold for $a$.\n",
    "4. Implication: \n",
    "* $A \\implies B$ is true. \n",
    "* If $A$ is true, then also $B$ is true. \n",
    "* If $A$ is inhabited, then also $B$ is inhabited.\n",
    "* There is a function mapping inhabitants of $A$ to inhabitants of $B$.\n",
    "* There is an $f$ with $f : A \\to B$.\n",
    "* $A \\to B$ is inhabited.\n",
    "5. Universal Quantification:\n",
    "* $\\forall_{x \\in S} (P(x))$ is true.\n",
    "* For each $x$ in the set $S$, the proposition $P(x)$ is true\n",
    "* For each $x$ in $S$, the type $P x$ is inhabited\n",
    "* There is a function (of type $\\Pi x : S . P x$) mapping each $x$ in $S$ to an inhabitant of $P x$\n",
    "* There is an $f$ with $f : \\Pi x : S . P x$\n",
    "* $\\Pi x : S . P x$ is inhabited"
   ]
  },
  {
   "cell_type": "markdown",
   "metadata": {},
   "source": [
    "($\\forall$-elim) ($\\forall_{x \\in S} (P(x)) \\land (N \\in S) \\implies P(N)$). Also: If we know that for all $x$ in set $S$, proposition $P$ holds for $x$, then we may conclude that $P$ holds for $N$, for given $N$ in $S$.\n",
    "\n",
    "(appl) $(\\Gamma \\vdash M : \\Pi x : A . B) \\land (\\Gamma \\vdash N : A) \\implies (\\Gamma \\vdash MN : B[x := N])$. Also: If we know that (in a certain context) $M$ is a proof of $\\forall x : A . B$, and if (in the same context) $N$ is of type $A$, then $M N$ is (in that context) a proof of $B [x := N]$\n",
    "\n",
    "Similarities:\n",
    "* The $\\forall$ in ($\\forall$-elim) is coded as $\\Pi$ in (appl)\n",
    "* The $S$ corresponds to $A$\n",
    "* $P(x)$ in ($\\forall$-elim) is $B$ in (appl), hence $P(N)$ becomes $B[x := N]$\n",
    "* In (appl), every judgement has a context. In ($\\forall$-elim) the context is traditionally left implicit.\n",
    "* In (appl), there are proof objects added for the proposition $\\Pi x : A . B$ and for the proposition $B [x := N]$."
   ]
  },
  {
   "cell_type": "markdown",
   "metadata": {},
   "source": [
    "($\\forall$-intro): $P(x) \\implies \\forall_{x \\in S}(P(x))$ if $x \\in S$. Also: If we can show, for arbitrary $x \\in S$, that predicate $P$ holds for $x$, then we may conclude that $P$ holds for all $x \\in S$. The arbitrariness of $x$ is expressed by putting $x$ in a flag.\n",
    "\n",
    "(abst) $(\\Gamma, x : A \\vdash M : B) \\land (\\Gamma \\vdash \\Pi x : A . B : s) \\implies (\\Gamma \\vdash \\lambda x : A . M : \\Pi x : A . B)$. Also: If we can show that $M$ is a proof of $B$ in the context $x : A$, then we may conclude that $\\lambda x : A . M$ is a proof of $\\Pi x : A . B$ in the context $\\Gamma$."
   ]
  },
  {
   "cell_type": "markdown",
   "metadata": {},
   "source": [
    "Remarks. Let $\\Gamma \\equiv A : *, P : A \\to *$\n",
    "1. $\\Gamma \\vdash \\Pi x : A . P x : *$ expresses \"If $A$ is a set and $P$ a predicate over $A$, then $\\forall_{x \\in A}(P(x))$ is a proposition\"\n",
    "2. $\\Gamma \\vdash \\Pi x : A . P x \\to P x : *$ expresses \"In the same setting, $\\forall_{x \\in A}(P(x) \\implies P(x))$ is a proposition\"\n",
    "3. $\\Gamma \\vdash \\lambda x : A . \\lambda y : P x . y : \\Pi x : A. P x \\to P x$ expresses \"And moreover, there is an inhabitant $\\lambda x : A . \\lambda y : P x . y$ of the proposition $\\forall_{x \\in A}(P(x) \\implies P(x))$\" "
   ]
  },
  {
   "cell_type": "markdown",
   "metadata": {},
   "source": [
    "Minimal predicate logic vs. Type theory of $\\lambda P$\n",
    "\n",
    "* S is a set -> $S : *$\n",
    "* A is a proposition -> $A : *$\n",
    "* $a \\in S$ -> $a : S$\n",
    "* p proves A -> $p : A$\n",
    "* P is a predicate on S -> $P : S \\to *$\n",
    "* $A \\implies B$ -> $A \\to B$\n",
    "* $\\forall_{x \\in S}(P(x))$ -> $\\Pi x : S . P x$\n",
    "* ($\\implies$-elim) -> (appl)\n",
    "* ($\\implies$-intro) -> (abst)\n",
    "* ($\\forall$-elim) -> (appl)\n",
    "* ($\\forall$-intro) -> (abst)\n"
   ]
  },
  {
   "cell_type": "markdown",
   "metadata": {},
   "source": [
    "By calculating the type of a proof object, one obtains a coding of the proposition it proves. There is a slight complication due to the (conv)-rule. Assume that $M$ is a proof object, and that a direct calculation of its type gives expression $N$. Then it may be the case that the direct representation of the proposition-to-prove is a different expression $N'$. However, if $N \\equiv_\\beta N'$ there is no problem, since proof object $M$ then also proves $N'$ by the (conv) rule. "
   ]
  },
  {
   "cell_type": "markdown",
   "metadata": {},
   "source": [
    "### 5.6. Conclusions\n",
    "\n",
    "* Coding set-valued functions and proposition-valued functions. \n",
    "* Propositions as types notion PAT enables us to encode propositions as types and present inhabitants of these types as proofs of these propositions.\n",
    "\n",
    "1. Basic mathematical notions, in particular: sets, propositions, and predicates\n",
    "2. Basic logical notions: implication and universal quantification. $\\implies$ becomes $\\to$ and $\\Pi$ becomes $\\forall$.\n",
    "\n",
    "\n",
    "### 5.7. Further Reading\n",
    "\n",
    "$\\sum$-types: $\\sum x : A . B$ represents the type of the pairs $\\langle a, b \\rangle$ s.t. $a : A$ and $b : B[x := a]$, so the type $B$ may depend on the $x$ of type $A$, e.g. symmetric relations."
   ]
  },
  {
   "cell_type": "markdown",
   "metadata": {},
   "source": []
  }
 ],
 "metadata": {
  "kernelspec": {
   "display_name": "Python 3",
   "language": "python",
   "name": "python3"
  },
  "language_info": {
   "name": "python",
   "version": "3.11.3"
  }
 },
 "nbformat": 4,
 "nbformat_minor": 2
}
