{
 "cells": [
  {
   "cell_type": "markdown",
   "metadata": {},
   "source": [
    "Derivation Rules:\n",
    "\n",
    "| rule | given | when | then | meaning | degree | \n",
    "|---|---|---|---|---|---|\n",
    "| **sort** |  | $\\{\\}$ |$\\vdash * : \\square$ | Introducing an axiom at conclusion | 1 | \n",
    "| **var** | $x \\notin \\Gamma$ | $\\{\\Gamma \\vdash A : s\\}$ | $\\Gamma, x : A \\vdash x : A$| Adding the same term on both sides | 2 | \n",
    "| **weak** | $x \\notin \\Gamma$ | $\\{\\Gamma \\vdash A : B, \\Gamma \\vdash C : s\\} $ | $\\Gamma, x : C \\vdash A : B$ | Weakening the left side | 2 |\n",
    "| **form** |  | $\\{\\Gamma \\vdash A : s_1, \\Gamma, x : A \\vdash B : s_2\\}$ | $\\Gamma \\vdash \\Pi x : A. B : s_2$ | Mapping types | 3 | \n",
    "| **appl** |  | $\\{\\Gamma \\vdash M : \\Pi x : A. B, \\Gamma \\vdash N : A\\}$ | $\\Gamma \\vdash MN : B[x := N]$ | Applying functions | 4 |\n",
    "| **abst** | | $\\{\\Gamma, x : A \\vdash M : B, \\Gamma \\vdash \\Pi x: A.B : s\\}$ | $\\Gamma \\vdash \\lambda x : A. M : \\Pi x : A. B$ | Defining functions | 4 |\n",
    "| **conv**  | $B =_{\\beta} B'$ | $\\{\\Gamma \\vdash A : B, \\Gamma \\vdash B' : s\\}$ | $\\Gamma \\vdash A : B'$| Evaluating terms and types | 5 |"
   ]
  },
  {
   "cell_type": "markdown",
   "metadata": {},
   "source": [
    "Contexts:\n",
    "\n",
    "$\\text{well-formed}(\\Gamma) := \\exists A, B . \\Gamma \\vdash A : B$"
   ]
  },
  {
   "cell_type": "markdown",
   "metadata": {},
   "source": [
    "Expressions:\n",
    "\n",
    "$E ::= V | \\square | * | (E E) | (\\lambda V: E . E) | (\\Pi V : E . E)$\n",
    "\n",
    "$\\text{typable}(M) := \\exists N \\in E, \\Gamma . \\Gamma \\vdash M : N$\n",
    "\n",
    "$\\text{inhabited}(M) := \\exists N \\in E, \\Gamma . \\Gamma \\vdash N : M$\n",
    "\n",
    "$\\text{legal}(M) := \\text{typable}(M) \\lor \\text{inhabited}(M)$"
   ]
  },
  {
   "cell_type": "markdown",
   "metadata": {},
   "source": [
    "Lemmas:\n",
    "\n",
    "| lemma | if | then | meaning |\n",
    "|---|---|---|---|\n",
    "| **Free Variables** | $\\Gamma \\vdash A : B$ | $FV(A) \\cup FV(B) \\subseteq \\text{dom}(\\Gamma)$ | Free variables are in the context |\n",
    "| **Thinning** | $\\text{well-formed}(\\Gamma'' \\supseteq \\Gamma') \\land \\Gamma' \\vdash A : B$ | $\\Gamma'' \\vdash A : B$ | Adding more variables to the context |\n",
    "| **Permutation** | $\\text{well-formed}(\\Gamma'' \\sim \\Gamma') \\land \\Gamma' \\vdash A : B$ | $\\Gamma'' \\vdash A : B$ | Permuting the context |\n",
    "| **Condensing** | $x \\notin \\Gamma'' \\cup B \\cup C \\land \\Gamma', x : A, \\Gamma'' \\vdash B : C$ | $\\Gamma', \\Gamma'' \\vdash B : C$ | Condensing the context |\n",
    "| **Generation 1** | $\\Gamma \\vdash x : B'$ | $\\exists s, B . B =_\\beta B' \\land \\Gamma \\vdash B : s$ | Generating a type |\n",
    "| **Generation 2** | $\\Gamma \\vdash MN : B'$ | $\\exists A, B . \\Gamma \\vdash M : \\Pi x: A . B \\land \\Gamma \\vdash N : A \\land B' =_\\beta B[x := N]$ | Generating a term |\n",
    "| **Generation 3** | $\\Gamma \\vdash \\lambda x : A. M : B$ | $\\exists s, B' . B =_\\beta \\Pi x : A . B' \\land \\Gamma \\vdash \\Pi x : A . B' : s \\land \\Gamma, x : A \\vdash M : B'$ | Generating a function |\n",
    "| **Generation 4** | $\\Gamma \\vdash \\Pi x : A . B : C$ | $\\exists s_1, s_2 . C =_\\beta s_2 \\land \\Gamma \\vdash A : s_1 \\land \\Gamma, x : A \\vdash B : s_2$ | Generating a type |\n",
    "| **Subexpression** | $\\text{legal}(M)$ | $\\forall M' : \\text{sub}(M) . \\text{legal}(M')$ | Subexpression is legal |\n",
    "| **Uniqueness of Types up to Conversion** | $\\Gamma \\vdash A : B_1 \\land \\Gamma \\vdash A : B_2$ | $B_1 =_\\beta B_2$ | Uniqueness of types up to conversion | \n",
    "| **Substitution** | $\\Gamma', x : A, \\Gamma'' \\vdash M : B \\land \\Gamma' \\vdash N : A$ | $\\Gamma', \\Gamma''[x := N] \\vdash M[x := N] : B[x := N]$ | Substituting a term in a term |\n",
    "| **Church-Rosser** | $M \\twoheadrightarrow_\\beta M_1 \\land M \\twoheadrightarrow_\\beta M_2$ | $\\exists M_3 . M_1 \\twoheadrightarrow_\\beta M_3 \\land M_2 \\twoheadrightarrow_\\beta M_3$ | Church-Rosser property |\n",
    "| **Corollary** | $M, N \\in E \\land M =_\\beta N$ | $\\exists L : E . M \\twoheadrightarrow_\\beta L \\land N \\twoheadrightarrow_\\beta L$ | Corollary of Church-Rosser | \n",
    "| **Subject Reduction** | $\\Gamma \\vdash M : A \\land M \\twoheadrightarrow_\\beta N$ | $\\Gamma \\vdash N : A$ | Subject reduction property |\n",
    "| **Strong Normalization** | $\\Gamma \\vdash M : A$ | $\\exists N \\in E . \\text{normal}_\\beta(N) \\land M \\twoheadrightarrow_\\beta N$ | Strong normalization property |"
   ]
  },
  {
   "cell_type": "markdown",
   "metadata": {},
   "source": [
    "Questions:\n",
    "\n",
    "| **System** | **$(*, *)$** | **$(\\square, *)$** | **$(\\square, \\square)$** | **$(*, \\square)$** | Well-typedness Decidable | Type Checking Decidable | Term Finding Decidable | \n",
    "|---|---|---|---|---|---|---|---|\n",
    "| **$\\lambda\\to $** | **+** | | | | **+** | **+** | **+** |\n",
    "| **$\\lambda 2$** | **+** | **+** | | | **+** | **+** | |\n",
    "| **$\\lambda \\underline{\\omega}$** | **+** | | **+** | | **+** | **+** | **+** |\n",
    "| **$\\lambda P$** | **+** | | | **+** | **+** | **+** |  |\n",
    "| **$\\lambda \\omega$** | **+** | **+** | **+** | | **+** | **+** |  |\n",
    "| **$\\lambda P2$** | **+** | **+** | | **+** | **+** | **+** |  |\n",
    "| **$\\lambda P\\underline{\\omega}$** | **+** | | **+** | **+** | **+** | **+** | |\n",
    "| **$\\lambda C$**| **+** | **+** |**+** | **+** | **+** | **+** | |"
   ]
  },
  {
   "cell_type": "markdown",
   "metadata": {},
   "source": [
    "Propositions as Types:\n",
    "\n",
    "| rule | given | when | then | meaning |\n",
    "|---|---|---|---|---|\n",
    "| $\\forall$-elim | | $\\{\\forall x \\in S (P(x)), N \\in S\\}$ | $P(N)$ | Eliminating $\\forall$ |\n",
    "| $\\forall$-intro | Let $x \\in S$ | $\\{P(x)\\}$ | $\\forall x \\in S . P(x)$ | Introducing $\\forall$ |\n",
    "| $\\implies$-elim | | $\\{A, A \\implies B\\}$ | $B$ | Eliminating $\\implies$ |\n",
    "| $\\implies$-intro | Assume: $A$ | $\\{B\\}$ | $A \\implies B$ | Introducing $\\implies$ |\n",
    "| $\\bot$-elim | | $\\{\\bot\\}$ | $A$ | Eliminating $\\bot$ |\n",
    "| $\\bot$-intro | | $\\{A, \\neg A\\}$ | $\\bot$ | Introducing $\\bot$ |\n",
    "| $\\neg$-elim | | $\\{\\neg A, A\\}$ | $\\bot$ | Eliminating $\\neg$ |\n",
    "| $\\neg$-intro | Assume: $A$ | $\\{\\bot\\}$ | $\\neg A$ | Introducing $\\neg$ |\n",
    "| $\\land$-elim-left | | $\\{A \\land B\\}$ | $A$ | Eliminating $\\land$ |\n",
    "| $\\land$-elim-right | | $\\{A \\land B\\}$ | $B$ | Eliminating $\\land$ |\n",
    "| $\\land$-intro | | $\\{A, B\\}$ | $A \\land B$ | Introducing $\\land$ |\n",
    "| $\\lor$-elim | | $\\{A \\lor B, A \\implies C, B \\implies C\\}$ | $C$ | Eliminating $\\lor$ |\n",
    "| $\\lor$-intro-left | | $\\{A\\}$ | $A \\lor B$ | Introducing $\\lor$ |\n",
    "| $\\lor$-intro-right | | $\\{B\\}$ | $A \\lor B$ | Introducing $\\lor$ |\n",
    "| $\\exists$-elim | | $\\{\\exists x \\in S (P(x)), \\forall x \\in S (P(x) \\implies A)\\}$ | $A$ | Eliminating $\\exists$ |\n",
    "| $\\exists$-intro | Find $x \\in S$ | $\\{P(x)\\}$ | $\\exists x \\in S (P(x))$ | Introducing $\\exists$ |\n",
    "\n",
    "with \n",
    "\n",
    "* $A \\implies B := \\text{inhabited}(A \\to B)$\n",
    "* $\\forall x \\in S (P(x)) := \\text{inhabited}(\\Pi x: S . P x)$\n",
    "* $\\bot := \\text{inhabited}(\\Pi \\alpha : * . \\alpha)$\n",
    "* $A \\land B := \\text{inhabited}(\\Pi C: * . (A \\to B \\to C) \\to C)$\n",
    "* $A \\lor B := \\text{inhabited}(\\Pi C: * . (A \\to C) \\to (B \\to C) \\to C)$\n",
    "* $\\exists x \\in S (P(x)) := \\text{inhabited}(\\Pi \\alpha : * . ((\\Pi x : S . (P x \\to \\alpha)) \\to \\alpha))$\n",
    "* $\\neg A := A \\implies \\bot$\n",
    "* $A \\iff B := (A \\implies B) \\implies (\\neg A \\implies B)$ "
   ]
  }
 ],
 "metadata": {
  "language_info": {
   "name": "python"
  }
 },
 "nbformat": 4,
 "nbformat_minor": 2
}
