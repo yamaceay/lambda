{
 "cells": [
  {
   "cell_type": "markdown",
   "metadata": {},
   "source": [
    "### 1.2. The essence of functions\n",
    "\n",
    "All expressions are called $\\lambda$-terms.\n",
    "\n",
    "*Abstraction*: Given an expression M and a variable x: $\\lambda x . M$, called abstraction of x over M.\n",
    "\n",
    "*Application*: Given expressions M and N: $M N$, called application of M to N."
   ]
  },
  {
   "cell_type": "code",
   "execution_count": 1,
   "metadata": {},
   "outputs": [],
   "source": [
    "abs1 = lambda x: x**2 + 1 # \\lambda x . x^2 + 1\n",
    "abs2 = lambda y: lambda x: x - y # \\lambda y . (\\lambda x . x - y)\n",
    "abs3 = lambda y: 5 # constant function\n",
    "app1 = abs1(3) # (\\lambda x . x^2 + 1)(3)\n",
    "app2 = (lambda x: x)(lambda y: y) # (\\lambda x . x)(\\lambda y . y)"
   ]
  },
  {
   "cell_type": "markdown",
   "metadata": {},
   "source": [
    "$\\beta$-Reduction: The formalization of the function evaluation process, using substitution ( = each variable in an expression is replaced by value given in square brackets [])\n",
    "\n",
    "As an example, take $\\beta$-reduction of $(\\lambda x . M)(N)$ to $M[x := N]$\n",
    "\n",
    "$(\\lambda x: x^2 + 1)(3) \\to_\\beta (x^2 + 1)[x := 3] = 3^2 + 1$\n",
    "\n",
    "Compatibility: $\\lambda z . ((\\lambda x . x) (\\lambda y . y)) \\to_\\beta \\lambda z . (\\lambda y . y)$"
   ]
  },
  {
   "cell_type": "markdown",
   "metadata": {},
   "source": [
    "Assumption: Only lambdas with one variable, e.g. $f = \\lambda (x, y) . (x^2 + y)$ is Curried as $f' = \\lambda y . (\\lambda x . (x^2 + y))$, which allows partial functions such as $f'(3)$. Otherwise, you have to feed all arguments in $f$.  "
   ]
  },
  {
   "cell_type": "markdown",
   "metadata": {},
   "source": [
    "### 1.3. Lambda-terms\n",
    "\n",
    "$\\Lambda = V | (\\Lambda \\Lambda) | (\\lambda V . \\Lambda)$ given $V = \\{x, y, z, …\\}$"
   ]
  },
  {
   "cell_type": "markdown",
   "metadata": {},
   "source": [
    "$M \\equiv N$: Syntactical identity\n",
    "\n",
    "$\\text{Sub}$ is a Multiset, denoting the subterms of a given $\\lambda$-term, defined as follows:\n",
    "* Basis: $\\text{Sub}(x) = \\{x\\}$\n",
    "* Application: $\\text{Sub}(M N) = \\text{Sub}(M) \\cup \\text{Sub}(N) \\cup \\{M N\\}$\n",
    "* Abstraction: $\\text{Sub}(\\lambda x . M) = \\text{Sub}(M) \\cup \\{\\lambda x . M\\}$\n",
    "\n",
    "It is an equivalence / order relation, because:\n",
    "* Reflexivity: $M \\in \\text{Sub}(M)$\n",
    "* Transitivity: $L \\in \\text{Sub}(M), M \\in \\text{Sub}(N) \\to L \\in \\text{Sub}(N)$"
   ]
  },
  {
   "cell_type": "markdown",
   "metadata": {},
   "source": [
    "Proper subterm means subterm except the term itself."
   ]
  },
  {
   "cell_type": "markdown",
   "metadata": {},
   "source": [
    "Parentheses:\n",
    "\n",
    "* Parentheses in an outermost position may be omitted, so $(MN) = MN, (\\lambda x . M) = \\lambda x . M$\n",
    "* Application is left-associative, so $((MN)L) = (MN)L = MNL$\n",
    "* Application takes precedence over abstraction, so $\\lambda x . (MN) = \\lambda x . MN$\n",
    "* Successive abstractions may be combined in a right-associative way under one $\\lambda$, so $\\lambda x . (\\lambda y . M) = \\lambda xy . M$"
   ]
  },
  {
   "cell_type": "markdown",
   "metadata": {},
   "source": [
    "### 1.4. Variables\n",
    "\n",
    "Take $\\lambda x . M = \\lambda x . x y$ for example:\n",
    "\n",
    "1. Free: $x, y$ are free in M, but only $y$ is free in $\\lambda x . M$, because abstraction of x over M binds all free occurrences of x in M. \n",
    "2. Bound: $x$ after .\n",
    "3. Binding: $x$ before .\n",
    "\n",
    "\n",
    "Free Variables (FV)\n",
    "\n",
    "1. Variable: $FV(x) = \\{x\\}$\n",
    "2. Application: $FV(MN) = FV(M) \\cup FV(N)$\n",
    "3. Abstraction: $FV(\\lambda x . M) = FV(M) \\backslash \\{x\\}$\n",
    "\n",
    "When inspecting a certain occurrence of a variable, check always bottom-up.\n",
    "\n",
    "Combinator, also closed $\\lambda$-term = $\\Lambda^0$ with $FV(M) = \\{\\}$"
   ]
  },
  {
   "cell_type": "markdown",
   "metadata": {},
   "source": [
    "### 1.5. Alpha conversion"
   ]
  },
  {
   "cell_type": "markdown",
   "metadata": {},
   "source": [
    "$\\equiv_\\alpha$ is $\\alpha$-equivalence\n",
    "\n",
    "$\\lambda x . M$ can be renamed as $\\lambda y . M^{x \\to y}$.\n",
    "\n",
    "$\\lambda x . M \\equiv_\\alpha \\lambda y . M^{x \\to y}$ provided that:\n",
    "* $y \\notin FV(M)$ (otherwise, a free term $y$ in $M$ becomes bound to the binding variable occurrence)\n",
    "* $y$ is not a binding variable in M (say $\\lambda y . \\lambda y . M$, the outermost y is useless)"
   ]
  },
  {
   "cell_type": "markdown",
   "metadata": {},
   "source": [
    "It is a equivalence relation:\n",
    "1. Renaming: $\\lambda x . M \\equiv_\\alpha \\lambda y . M^{x \\to y}$ if $y \\notin FV(M)$ and $y$ not a binding variable in M\n",
    "2. Compatibility: $M \\equiv_\\alpha N \\to ML \\equiv_\\alpha NL, LM \\equiv_\\alpha LN, \\forall z (\\lambda z . M \\equiv_\\alpha \\lambda z . N)$\n",
    "3. Reflexivity: $M \\equiv_\\alpha M$\n",
    "4. Symmetry: $M \\equiv_\\alpha N \\to N \\equiv_\\alpha M$\n",
    "5. Transitivity: $L \\equiv_\\alpha M, M \\equiv_\\alpha N \\to L \\equiv_\\alpha N$"
   ]
  },
  {
   "cell_type": "markdown",
   "metadata": {},
   "source": [
    "### 1.6. Substitution\n",
    "\n",
    "1. $y[x := N] \\equiv y$ if $x \\not\\equiv y$ else $N$\n",
    "2. $(PQ)[x := N] \\equiv (P[x := N])(Q[x := N])$\n",
    "3. $(\\lambda y . P)[x := N] = \\lambda z . (P^{y \\to z}[x := N])$ if $\\lambda y . P \\equiv_\\alpha \\lambda z . P^{y \\to z}$ and $z \\notin FV(N)$\n",
    "\n",
    "Take 3: Initially, if we don't know if $y \\in FV(N)$, so we have to rename it such that $z \\notin FV(N)$. Otherwise, we can also use $(\\lambda y . P)[x := N] \\equiv_\\alpha \\lambda y . (P[x := N])$\n",
    "\n",
    "Renaming is a special case of substitution, so that $M^{x \\to u} \\equiv_\\alpha M[x := u]$ if the conditions of renaming are satisfied\n"
   ]
  },
  {
   "cell_type": "markdown",
   "metadata": {},
   "source": [
    "$(\\lambda y . y x)[x := xy] = (\\lambda z . z x)[x := xy] = \\lambda z . ((z x)[x := xy]) = \\lambda z . ((z[x := xy]) (x[x := xy])) = \\lambda z . zxy$\n",
    "\n",
    "$(\\lambda x . y x)[x := xy] = \\lambda x . ((yx)[x := xy]) = \\lambda x . ((yx)[x := xy]) = \\lambda x . ((y[x := xy])(x[x := xy])) = \\lambda x . yxy$\n",
    "\n",
    "$(\\lambda x y . z z x)[z := y] = (\\lambda x . (\\lambda y . (z z x)))[z := y] = (\\lambda u . (\\lambda y . (z z u)))[z := y] = \\lambda u . ((\\lambda y . (z z u))[z := y]) = \\lambda u . ((\\lambda v . (z z u))[z := y]) = \\lambda u . (\\lambda v . ((z z u)[z := y])) = \\lambda u . (\\lambda v . ((z)[z := y] (z)[z := y] (u)[z := y])) = \\lambda u v . y y u = \\lambda x v . y y x$"
   ]
  },
  {
   "cell_type": "markdown",
   "metadata": {},
   "source": [
    "The order of substitutions is important:\n",
    "\n",
    "* $M[x := N][y := L] \\equiv M[y := L][x := N[y := L]]$ if $x \\not\\equiv y$ and $x \\notin FV(L)$\n",
    "\n",
    "If $x \\in FV(L)$, then the first term should finally have free $x$, but substituting $x$'s at the end should require the second term to bind all $x$'s. That's why this should not be allowed."
   ]
  },
  {
   "cell_type": "markdown",
   "metadata": {},
   "source": [
    "### 1.7. Lambda-terms modulo $\\alpha$-equivalence\n",
    "\n",
    "If $M_1 \\equiv_\\alpha M_2$ and $N_1 \\equiv_\\alpha N_2$:\n",
    "\n",
    "* $M_1 N_1 \\equiv_\\alpha M_2 N_2$\n",
    "* $\\lambda x . M_1 \\equiv_\\alpha \\lambda x . M_2$\n",
    "* $M_1[x := N_1] \\equiv_\\alpha M_2[x := N_2]$"
   ]
  },
  {
   "cell_type": "markdown",
   "metadata": {},
   "source": [
    "Barendregt convention: We choose the names for the binding variables in a $\\lambda$-term in  such a manner that they are all different, and such that each of them differs from all free variables occurring in the term."
   ]
  },
  {
   "cell_type": "markdown",
   "metadata": {},
   "source": [
    "### 1.8. $\\beta$-Reduction\n",
    "\n",
    "One-step $\\beta$-reduction:\n",
    "1. Basis: $(\\lambda x . M)N \\to_\\beta M[x := N]$\n",
    "2. Compatibility: If $M \\to_\\beta N$, then $ML \\to_\\beta NL, LM \\to_\\beta LN, \\forall z (\\lambda z . M \\to_\\beta \\lambda z . N)$\n",
    "\n",
    "$(\\lambda x . M)N$ vs. $M[x := N]$\n",
    "* The first expression is an abstract representation of function call, and called redex (reducible expression). \n",
    "* $M$ in $(\\lambda x . M)$ is called body of the abstraction. \n",
    "* The second expression representes the real outcome and is called contractum\n",
    "* Called: \"strip a redex down to the body M of the abstraction and substitute argument N for all free x's occurring in this body\""
   ]
  },
  {
   "cell_type": "markdown",
   "metadata": {},
   "source": [
    "$(\\lambda x . x(x y)) N \\to_\\beta N(N y)$\n",
    "\n",
    "$(\\lambda x . (\\lambda y . y x) z) v \\to_\\beta ((\\lambda y . y x)z)[x := v] \\equiv_\\alpha (\\lambda y . y v)z \\to_\\beta (y v)[y := z] \\equiv_\\alpha z v$"
   ]
  },
  {
   "cell_type": "markdown",
   "metadata": {},
   "source": [
    "Zero-or-more-step $\\beta$-reduction\n",
    "\n",
    "$M \\twoheadrightarrow_\\beta N$ if $n \\ge 0$, $M_0, …, M_n$ s.t. $M \\equiv M_0, M_i \\to_\\beta M_{i + 1}, M_n \\equiv N$, also there exists a reduction path (chain of single-step reductions) starting with M and ending with N\n",
    "\n",
    "It is reflexive and transitive"
   ]
  },
  {
   "cell_type": "markdown",
   "metadata": {},
   "source": [
    "$\\beta$-conversion is an equivalence relation, because symmetric as well: $M \\equiv_\\beta N$ if $M \\twoheadrightarrow_\\beta N$ or $N \\twoheadrightarrow_\\beta M$ "
   ]
  },
  {
   "cell_type": "markdown",
   "metadata": {},
   "source": [
    "### 1.9. Normal Forms and Confluence\n",
    "\n",
    "$\\beta$-normal form (there is no more application but solely the end outcome, no further calculation possible):\n",
    "1. M is in $\\beta$-normal form (or is in $\\beta$-nf), if M does not contain any redex\n",
    "2. M has a $\\beta$-normal form (has a $\\beta$-nf), if there is an N in $\\beta$-nf s.t. $M \\equiv_\\beta N$ \n",
    "\n",
    "So if $M$ is in $\\beta$-nf, then $M \\twoheadrightarrow_\\beta N$ implies $M \\equiv N$\n",
    "\n",
    "But not: if $M \\twoheadrightarrow_\\beta N$ implies $M \\equiv N$, then $M$ is in $\\beta$-nf"
   ]
  },
  {
   "cell_type": "markdown",
   "metadata": {},
   "source": [
    "Weak normalization vs. Strong normalization\n",
    "\n",
    "1. M is weakly normalizing if there is an N in $\\beta$-normal form such that $M \\twoheadrightarrow_\\beta N$ (there exists a reduction path)\n",
    "\n",
    "2. M is strongly normalizing if there are no infinite reduction paths starting from $M$ (all reduction paths lead to an outcome)"
   ]
  },
  {
   "cell_type": "markdown",
   "metadata": {},
   "source": [
    "Church-Rosser Theorem: If a term $M$ reduces to both $N_1$ and $N_2$, then there exists a common reduct of these two, also the reduction paths flow together again\n",
    "\n",
    "Formally: Suppose that for a given $\\lambda$-term M we have $M \\twoheadrightarrow_\\beta N_1$ and $M \\twoheadrightarrow_\\beta N_2$. Then there is a $\\lambda$-term $P$ s.t. $N_1 \\twoheadrightarrow_\\beta P$ and $N_2 \\twoheadrightarrow_\\beta P$\n",
    "\n",
    "It leads to: The outcome of a calculation (if it exists) is independent of the order in which the calculations are executed. The consecutive choices of the redexes should not influence the final result.\n",
    "\n",
    "Any pair of convertible terms has a common reduct: Suppose that $M \\equiv_\\beta N$. Then there is L such that $M \\twoheadrightarrow_\\beta L$ and $N \\twoheadrightarrow_\\beta L$."
   ]
  },
  {
   "cell_type": "markdown",
   "metadata": {},
   "source": [
    "Inductive Proof\n",
    "\n",
    "$M \\equiv M_0 \\leftrightarrow_\\beta M_1 … M_{n - 1} \\leftrightarrow_\\beta M_n \\equiv N$ for some $n \\in \\N$\n",
    "\n",
    "1. $n = 0 \\implies M \\equiv N$, then $M \\twoheadrightarrow_\\beta L$ and $N \\twoheadrightarrow_\\beta L$ for any $L$\n",
    "2. $n > 0$, then $M_{k - 1}$ exists. \n",
    "    * Assume there is an $L'$ s.t. $M_0 \\twoheadrightarrow_\\beta L'$ and $M_{k-1} \\twoheadrightarrow_\\beta L'$ \n",
    "    * $M_{k - 1} \\to_\\beta M_k$ or $M_k \\to_\\beta M_{k - 1}$\n",
    "    * Then $M_{k - 1} \\twoheadrightarrow_\\beta L'$ and $M_{k - 1} \\to_\\beta M_k$\n",
    "    * Compatibility Rule: There is an $L$ s.t. $L' \\twoheadrightarrow_\\beta L$ and $M_K \\twoheadrightarrow_\\beta L$\n",
    "    * Similarly for $M_0 \\to_\\beta M_1$"
   ]
  },
  {
   "cell_type": "markdown",
   "metadata": {},
   "source": [
    "1. \"If a $\\lambda$-term has an outcome, then this outcome can be reached by forward calculation\": If M has N as $\\beta$-normal form, then $M \\twoheadrightarrow_\\beta N$. \n",
    "\n",
    "(1) Assume $M \\equiv_\\beta N$, then there is an $L$ s.t. $M \\twoheadrightarrow_\\beta L$ and $N \\twoheadrightarrow_\\beta L$. But since $N$ is in $\\beta$-nf, $L$ must be $N$, then $M \\twoheadrightarrow_\\beta L \\equiv N$\n",
    " \n",
    "2. \"An outcome of a calculation, if it exists, is unique. (There cannot be two different outcomes for one $\\lambda$-term)\": A $\\lambda$-term has at most one $\\beta$-normal form\n",
    "\n",
    "(2) Assume that $N_1$ and $N_2$ are the normal forms of $M$ with $M \\twoheadrightarrow_\\beta N_1$ and $M \\twoheadrightarrow_\\beta N_2$. Then there is L s.t. $N_1 \\twoheadrightarrow_\\beta L$ and $N_2 \\twoheadrightarrow_\\beta L$. But since both $N_1$ and $N_2$ are normal forms, they cannot be reduced further, and $L$ would be the only normal form. "
   ]
  },
  {
   "cell_type": "markdown",
   "metadata": {},
   "source": [
    "### 1.10. Fixed Point Theorem"
   ]
  },
  {
   "cell_type": "markdown",
   "metadata": {},
   "source": [
    "Every $\\lambda$-term has a fixed point, i.e. for each L there exists a $\\lambda$-term M such that $LM \\equiv_\\beta$ M.\n",
    "\n",
    "A function f has a fixed point a if $f(a) = a$: \"a is fixed by f\". Successor function is a contrary example, squaring not (take 0, 1). Untyped $\\lambda$-calculus different from usual calculus.\n",
    "\n",
    "For all $L \\in \\Lambda$ there is $M \\in \\Lambda$ s.t. $LM \\equiv_\\beta$ M\n",
    "\n",
    "For given L, take $M = (\\lambda x . L(x x))(\\lambda x . L(x x))$. This M is a redex, so we have:\n",
    "\n",
    "$M \\equiv (\\lambda x . L(x x))(\\lambda x . L(x x)) \\to_\\beta L((\\lambda x . L(x x))(\\lambda x . L(x x))) \\equiv LM$. Hence, $LM \\equiv_\\beta M$"
   ]
  },
  {
   "cell_type": "markdown",
   "metadata": {},
   "source": [
    "There exists a so-called fixed point combinator, a closed term which constructs a fixed point for an arbitrary input term.\n",
    "\n",
    "$Y \\equiv \\lambda y . ((\\lambda x . y(x x))(\\lambda x . y(x x)))$\n",
    "\n",
    "$YL$ is a fixed point of $L$ similarly"
   ]
  },
  {
   "cell_type": "markdown",
   "metadata": {},
   "source": [
    "Solvability of recursive equations of the form: $M \\equiv_\\beta … M …$ -> an M that makes such an equation true can always be found"
   ]
  },
  {
   "cell_type": "markdown",
   "metadata": {},
   "source": [
    "### 1.11. Conclusions\n",
    "\n",
    "#### Positive\n",
    "\n",
    "* We have formally described the input-output behavior of functions, including the essential construction principles (abstraction and application), and the evaluation rule ($\\beta$-reduction).\n",
    "* The $\\lambda$-calculus is a clean and simple formalism for these purposes, which also deals neatly with variable binding.\n",
    "* Substitution appears to be a fundamental mechanism for function evaluation. Its consequencese are more subtle than expected. However, substitution can be treated rigorously in untyped lambda calculus.\n",
    "* Conversion is an important extension of reduction, which can straightforwardly be introduced. It covers the notino \"being equivalent by means of calculations\".\n",
    "* We have included the useful notion \"possible outcome of a calculation\" by defining $\\beta$-normal forms.\n",
    "* Confluence, a property naturally desired for calculations, is guaranteed in lambda calculus.\n",
    "* A nice consequence is the uniqueness of $\\beta$-normal forms, if existing; so there cannot be more than one \"outcome\" of a calculation.\n",
    "* A number of recursive equations can be solved by means of fixed points.\n",
    "* Finally, we mention the fact (which we discuss in the following section) that the untyped lambda calculus is Turing-complete.\n",
    "\n",
    "#### Negative\n",
    "\n",
    "* Self-applications (such as $x x$ or $M M$) are allowed in lambda calculus, although they are counter-intuitive.\n",
    "* Existence of normal forms for $\\lambda$-terms is not guaranteed, so we have the real possibility of undesired infinite calculations.\n",
    "* Each $\\lambda$-term has a fixed point, which is not in accordance with what we know to be the usual behaviour of functions.\n",
    "\n",
    "\n",
    "#### Solution\n",
    "\n",
    "Adding types to lambda calculus -> Natural restrictions on the terms\n",
    "\n"
   ]
  }
 ],
 "metadata": {
  "kernelspec": {
   "display_name": "Python 3",
   "language": "python",
   "name": "python3"
  },
  "language_info": {
   "codemirror_mode": {
    "name": "ipython",
    "version": 3
   },
   "file_extension": ".py",
   "mimetype": "text/x-python",
   "name": "python",
   "nbconvert_exporter": "python",
   "pygments_lexer": "ipython3",
   "version": "3.11.3"
  }
 },
 "nbformat": 4,
 "nbformat_minor": 2
}
