{
 "cells": [
  {
   "cell_type": "markdown",
   "metadata": {},
   "source": [
    "### 4.1. Type Constructors\n",
    "\n",
    "$\\lambda \\alpha : * . \\alpha \\to \\alpha$ is called a type constructor. We obtain types only if we feed in types."
   ]
  },
  {
   "cell_type": "markdown",
   "metadata": {},
   "source": [
    "$\\lambda \\omega$: Types depending on types"
   ]
  },
  {
   "cell_type": "markdown",
   "metadata": {},
   "source": [
    "Kinds (representing types, super-types, super-super-types, …): $\\mathbb{K} = * | (\\mathbb{K} \\to \\mathbb{K})$\n",
    "\n",
    "Type of all kinds: $* : \\square, * \\to * : \\square, …$"
   ]
  },
  {
   "cell_type": "markdown",
   "metadata": {},
   "source": [
    "* If $\\kappa : \\square$ and $M : \\kappa$, then $M$ is a constructor. \n",
    "* If $\\kappa \\not\\equiv *$, then $M$ is a proper constructor.\n",
    "* The set of sorts is $\\{*, \\square\\}$ (either a type $*$ or a kind $\\square$)"
   ]
  },
  {
   "cell_type": "markdown",
   "metadata": {},
   "source": [
    "Levels:\n",
    "\n",
    "$t : \\sigma : * \\to * : \\square$\n",
    "\n",
    "1. Terms, like $t$\n",
    "2. Types, like $\\sigma$\n",
    "3. Kinds, like $* \\to *$\n",
    "4. Sorts, like $\\square$\n",
    "\n",
    "Proper constructors cannot be inhabited so t is omitted from the chain.\n",
    "\n",
    "For example: $\\sigma : \\kappa : \\square$"
   ]
  },
  {
   "cell_type": "markdown",
   "metadata": {},
   "source": [
    "Statements $A : B$ are influenced by the richer choice in levels. Since the level of B must be one higher than that of A, we have:\n",
    "1. If A has level 1, then A must be a term and B a type.\n",
    "2. In $\\lambda 2$, A may also have level 2. Then A is a type and $B \\equiv *$.\n",
    "3. In $\\lambda \\omega$, A may also be a type constructor and consequently B can be a more complicated kind, such as $* \\to *$\n",
    "3. In $\\lambda \\omega$, it is possible that A has level 3; then A is a kind and B is $\\square$"
   ]
  },
  {
   "cell_type": "markdown",
   "metadata": {},
   "source": [
    "### 4.2. Sort-rule and Var-rule in $\\lambda\\omega$\n",
    "\n",
    "sort-rule: $\\{\\} \\vdash * : \\square$. All declarations occurring in a context are derivable in that context.\n",
    "\n",
    "var-rule: $(\\Gamma \\vdash A : s) \\implies (\\Gamma, x : A \\vdash x : A)$ if $x \\notin \\Gamma$"
   ]
  },
  {
   "cell_type": "markdown",
   "metadata": {},
   "source": [
    "$s \\equiv \\square$ and $A : s$: $* : \\square, * \\to * : \\square$\n",
    "\n",
    "$s \\equiv \\square$ and $x : A$: $\\alpha : *, \\beta : * \\to *$\n",
    "\n",
    "$s \\equiv *$ and $A : s$: $\\alpha : *, \\alpha \\to \\beta : *$\n",
    "\n",
    "$s \\equiv *$ and $x : A$: $x : \\alpha, y : \\alpha \\to \\beta$"
   ]
  },
  {
   "cell_type": "markdown",
   "metadata": {},
   "source": [
    "### 4.3. The Weakening Rule in $\\lambda\\omega$"
   ]
  },
  {
   "cell_type": "markdown",
   "metadata": {},
   "source": [
    "Add new declarations given that the types of the new declarations are well-formed.\n",
    "\n",
    "(weak) $(\\Gamma \\vdash A : B) \\land (\\Gamma \\vdash C : s) \\implies (\\Gamma, x : C \\vdash A : B)$ if $x \\notin \\Gamma$\n",
    "\n",
    "Weaken the context by adding an arbitrary condition at the end"
   ]
  },
  {
   "cell_type": "markdown",
   "metadata": {},
   "source": [
    "### 4.4. The Formation Rule in $\\lambda\\omega$\n",
    "\n",
    "(form) $(\\Gamma \\vdash A : s) \\land (\\Gamma \\vdash B : s) \\implies (\\Gamma \\vdash A \\to B : s)$"
   ]
  },
  {
   "cell_type": "markdown",
   "metadata": {},
   "source": [
    "\n",
    "### 4.5. Application and Abstraction Rules in $\\lambda\\omega$\n",
    "\n",
    "(appl) $(\\Gamma \\vdash M : A \\to B) \\land (\\Gamma \\vdash N : A) \\implies (\\Gamma \\vdash MN : B)$\n",
    "\n",
    "(abst): $(\\Gamma, x : A \\vdash M : B) \\land (\\Gamma \\vdash A \\to B : s) \\implies (\\Gamma \\vdash \\lambda x : A . M : A \\to B)$"
   ]
  },
  {
   "cell_type": "markdown",
   "metadata": {},
   "source": [
    "Double role again. Take $A \\to B$:\n",
    "\n",
    "* If $s \\equiv *$ (2nd-level): $(\\alpha \\to \\beta) \\to \\gamma$\n",
    "* If $s \\equiv \\square$ (3rd-level): $(* \\to *) \\to *$\n"
   ]
  },
  {
   "cell_type": "markdown",
   "metadata": {},
   "source": [
    "### 4.6. Shortened Derivations\n",
    "\n",
    "(1) $\\{\\} \\vdash * : \\square$ (sort)\n",
    "\n",
    "(2) $\\alpha : * \\vdash \\alpha : *$ (var)\n",
    "\n",
    "(5) $\\alpha : * \\vdash * : \\square$ (weak)\n",
    "\n",
    "(6) $\\alpha : *, \\beta : * \\vdash \\alpha : *$ (weak)\n",
    "\n",
    "(7) $\\alpha : *, \\beta : * \\vdash \\beta : *$ (var)\n",
    "\n",
    "(8) $\\alpha : *, \\beta : * \\vdash \\alpha \\to \\beta : *$\n",
    "\n",
    "\n",
    "Instead, skip those obvious steps, and write it more compactly as previously.\n",
    "\n",
    "(a) $\\beta : *$\n",
    "\n",
    "* (b) $\\alpha : *$\n",
    "\n",
    "* * (12) $\\alpha \\to \\alpha : *$ (form) on (b) and (b)\n",
    "\n",
    "* (14) $\\lambda \\alpha : * . \\alpha \\to \\alpha : * \\to *$ (abst) on (12)\n",
    "\n",
    "* (16) $(\\lambda \\alpha : * . \\alpha \\to \\alpha)\\beta : *$ (appl) on (14) and (a)"
   ]
  },
  {
   "cell_type": "markdown",
   "metadata": {},
   "source": [
    "### 4.7. The Conversion Rule\n",
    "\n",
    "(conv) $(\\Gamma \\vdash A : B) \\land (\\Gamma \\vdash B' : s) \\implies (\\Gamma \\vdash A : B')$ if $B \\equiv_\\beta B'$\n"
   ]
  },
  {
   "cell_type": "markdown",
   "metadata": {},
   "source": [
    "Comparison: \n",
    "* Subject Reduction Theorem: If $\\Gamma \\vdash M : A$ and $M \\to_\\beta M'$, then $\\Gamma \\vdash M' : A$.\n",
    "* Type Reduction Theorem: If $\\Gamma \\vdash M : A$ and $A \\to_\\beta A'$, then $\\Gamma \\vdash M : A'$.\n",
    "* Conversion: If $\\Gamma \\vdash M : A$ and $A \\equiv_\\beta A'$, then $\\Gamma \\vdash M : A'$."
   ]
  },
  {
   "cell_type": "markdown",
   "metadata": {},
   "source": [
    "### 4.8. Properties of $\\lambda\\omega$\n",
    "\n"
   ]
  },
  {
   "cell_type": "markdown",
   "metadata": {},
   "source": [
    "Uniqueness of Types up to Conversion: If $\\Gamma \\vdash A : B_1$ and $\\Gamma \\vdash A : B_2$, then $B_1 \\equiv_\\beta B_2$\n",
    "\n"
   ]
  }
 ],
 "metadata": {
  "language_info": {
   "name": "python"
  }
 },
 "nbformat": 4,
 "nbformat_minor": 2
}
