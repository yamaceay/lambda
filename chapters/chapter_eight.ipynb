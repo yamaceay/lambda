{
 "cells": [
  {
   "cell_type": "markdown",
   "metadata": {},
   "source": [
    "Given:\n",
    "\n",
    "* Parameter list: $\\overline{x} \\equiv x_1, …, x_n$\n",
    "* Context: $\\Gamma \\equiv \\overline{x} : \\overline{A} \\equiv x_1 : A_1, …, x_n : A_n$\n",
    "* Definition: $D_i \\equiv \\overline{x} : \\overline{A} \\triangleright a(\\overline{x}) := M : N$\n",
    "* Environment: $\\Delta \\equiv \\overline{D} \\equiv D_1, …, D_n$\n",
    "\n",
    "Judgment with definition: $\\Delta ; \\Gamma \\vdash a(\\overline{x}) := M : N$\n",
    "\n",
    "Judgment with instantiation: $\\Delta ; \\Gamma \\vdash … a(\\overline{b}) … := P : R$ with $\\overline{b} \\in \\Gamma$\n",
    "\n",
    "| rule | given | when | then | meaning |\n",
    "| --- | --- | --- | --- | --- |\n",
    "| **def** | $a \\notin \\Delta, D \\equiv \\overline{x} : \\overline{A} \\triangleright a(\\overline{x}) := M : N$ | $\\{\\Delta ; \\Gamma \\vdash K : L, \\Delta ; \\overline{x} : \\overline{A} \\vdash M : N\\}$ | $\\Delta, D ; \\Gamma \\vdash K: L$ | definition of a constant |\n",
    "| **inst** | $D \\equiv \\overline{x} : \\overline{A} \\triangleright a(\\overline{x}) := M : N \\in \\Delta$ | $\\{\\Delta ; \\Gamma \\vdash * : \\square, \\Delta ; \\Gamma \\vdash \\overline{U} : \\overline{A[\\overline{x} : \\overline{A}]}\\}$ | $\\Delta ; \\Gamma \\vdash a(\\overline{U}) : N[\\overline{x} : \\overline{A}]$ | instantiation of a constant |\n",
    "| **conv** | $B \\triangleq B'$ | $\\{\\Delta ; \\Gamma \\vdash A : B, \\Delta; \\Gamma \\vdash B': s\\}$ | $\\Delta ; \\Gamma \\vdash A : B'$ | $\\beta-\\delta$-conversion |\n",
    "| **par** | $a \\notin \\Delta, D \\equiv \\overline{x} : \\overline{A} \\triangleright a(\\overline{x}) := M : N$ | $\\{\\Delta; \\overline{x} : \\overline{A} \\vdash M : N\\}$ | $\\Delta, D, \\overline{x} : \\overline{A} ; \\Gamma \\vdash a(\\overline{x}) : N$ | parameter introduction |\n"
   ]
  },
  {
   "cell_type": "markdown",
   "metadata": {},
   "source": [
    "Expressions: $E_{\\lambda D} = V | \\square | * | (E_{\\lambda D} E_{\\lambda D}) | (\\lambda V: E_{\\lambda D} : E_{\\lambda D}) | (\\lambda V: E_{\\lambda D} : E_{\\lambda D}) | C(\\overline{E_{\\lambda D}})$"
   ]
  },
  {
   "cell_type": "markdown",
   "metadata": {},
   "source": [
    "Induction Property: $P 0 \\implies (\\forall n \\in N (P n \\implies P(s n)) \\implies \\forall n \\in N (P n))$\n",
    "\n",
    "Primitive Definitions $\\overline{x} : \\overline{A} \\triangleright a(\\overline{x}) := \\bot : N$"
   ]
  },
  {
   "cell_type": "markdown",
   "metadata": {},
   "source": [
    "Theorems and Proofs\n",
    "\n",
    "* $\\Gamma \\vdash a(\\overline{x}) := N : *_P$ is a theorem\n",
    "* $\\Gamma \\vdash b(\\overline{x}) := M : N$ is a proof of theorem"
   ]
  },
  {
   "cell_type": "markdown",
   "metadata": {},
   "source": [
    "* **Relatively simple syntax** that is built on $\\lambda$-calculus, and therefore well-suited to the function-based approach underlying many mathematical topics.\n",
    "* **Types** appropriate for a natural translation of the set-and-element ideas present in a great number of mathematical fields.\n",
    "* **Propositions-as-types**, proofs-as-terms and hence usually informal notion of proof into the formal system, so theorems and proofs become first-class citizens.\n",
    "* **Decidability** of type checking and consequently, decidability of proof checking; every well-typed term has a unique type that can be computed by a relatively simple algorithm.\n",
    "* **Definitions** formally incorporated, so they are also first-class citizens.\n",
    "* **Contexts** to record assumptions and free variables.\n",
    "* **Flags** as economic display of contexts provides a feasible mechanism of developing and representing proofs; this is close to the mathematical practice using a natural deduction format."
   ]
  }
 ],
 "metadata": {
  "language_info": {
   "name": "python"
  }
 },
 "nbformat": 4,
 "nbformat_minor": 2
}
