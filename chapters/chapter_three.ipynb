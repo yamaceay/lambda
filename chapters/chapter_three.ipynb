{
 "cells": [
  {
   "cell_type": "markdown",
   "metadata": {},
   "source": [
    "### 3.1. Type-abstraction and Type-application\n",
    "\n",
    "First order abstraction: Terms depending on terms\n",
    "Second order abstraction: Terms depending on types\n",
    "\n",
    "Identity function for an arbitrary type $\\alpha$: $\\lambda x : \\alpha . x$\n",
    "* If $\\alpha \\equiv \\text{nat}$, then natural numbers\n",
    "* If $\\alpha \\equiv \\text{bool}$, then boolean values\n",
    "* If $\\alpha \\equiv \\text{nat} \\to \\text{nat}$, then functions from natural numbers to natural numbers \n",
    "\n",
    "Unify them as: $\\lambda \\alpha : * . \\lambda x : \\alpha . x$\n",
    "\n",
    "Usage: $(\\lambda \\alpha : * . \\lambda x : \\alpha . x)(\\text{nat})(5) \\to_\\beta (\\lambda x : \\text{nat} . x)(5) \\to_\\beta 5$"
   ]
  },
  {
   "cell_type": "markdown",
   "metadata": {},
   "source": [
    "This allows us to define generic function types, such as the identity function, applied to any type."
   ]
  },
  {
   "cell_type": "markdown",
   "metadata": {},
   "source": [
    "### 3.2. $\\Pi$-types"
   ]
  },
  {
   "cell_type": "markdown",
   "metadata": {},
   "source": [
    "Type of $\\lambda \\alpha : * . \\lambda x : \\alpha . x$:\n",
    "* $(\\lambda x : \\alpha . x) : \\alpha \\to \\alpha$.\n",
    "* $(\\lambda \\alpha : * . \\lambda x : \\alpha . x) : * \\to (\\alpha \\to \\alpha)$.\n",
    "\n",
    "But $\\alpha$ is now a binding variable, not a free one. \n",
    "* Assume $\\lambda \\alpha : * . \\lambda x : \\alpha . x \\equiv \\lambda \\beta : * . \\lambda x : \\beta . x$ \n",
    "* But $\\lambda \\alpha : * . \\lambda x : \\alpha . x : * \\to \\alpha \\to \\alpha$ and $(\\lambda \\beta : * . \\lambda x : \\beta . x) : * \\to \\beta \\to \\beta$\n",
    "* Note that a term should have a unique type, but $\\alpha \\to \\alpha \\equiv \\beta \\to \\beta$ is only satisfied if $\\alpha \\equiv \\beta$.\n",
    "* However, this is not necessarily this case, as $\\alpha$ and $\\beta$ become free variables after $\\beta$-reduction.\n",
    "\n",
    "Solution: $\\Pi$-binder used as $\\Pi \\alpha : * . \\alpha \\to \\alpha$ for abstracting over types. \n",
    "\n",
    "Now, define $\\lambda \\alpha : * . \\lambda x : \\alpha . x : \\Pi \\alpha : * . \\alpha \\to \\alpha$ to allow $\\alpha$-conversion"
   ]
  },
  {
   "cell_type": "markdown",
   "metadata": {},
   "source": [
    "Examples:\n",
    "\n",
    "* $\\lambda \\alpha : * . \\lambda f : \\alpha \\to \\alpha . \\lambda x : \\alpha . f(f x)$ is of type $\\Pi \\alpha : * . (\\alpha \\to \\alpha) \\to \\alpha \\to \\alpha$ (\"Perform a function twice\")\n",
    "\n",
    "* $\\lambda \\alpha : * . \\lambda \\beta : * . \\lambda f : \\alpha \\to \\beta . \\lambda g : \\beta \\to \\gamma . \\lambda x : \\alpha . g(f x)$ is of type $\\Pi \\alpha : * . \\Pi \\beta : * . \\Pi \\gamma : * . (\\alpha \\to \\beta) \\to (\\beta \\to \\gamma) \\to \\alpha \\to \\gamma$ (\"Concatenate two functions\")"
   ]
  },
  {
   "cell_type": "markdown",
   "metadata": {},
   "source": [
    "$\\Pi$-types are product types. "
   ]
  },
  {
   "cell_type": "markdown",
   "metadata": {},
   "source": [
    "### 3.3. Second Order Abstraction and Application Rules\n",
    "\n",
    "* abst_2: $(\\Gamma, \\alpha : * \\vdash M : A) \\implies (\\Gamma \\vdash \\lambda \\alpha : * . M : \\Pi \\alpha : * . A)$\n",
    "\n",
    "* appl_2: $((\\Gamma \\vdash M : \\Pi \\alpha : * . A) \\land (\\Gamma \\vdash B : *)) \\implies (\\Gamma \\vdash MB : A[\\alpha := B])$"
   ]
  },
  {
   "cell_type": "markdown",
   "metadata": {},
   "source": [
    "### 3.4. The System $\\lambda 2$\n",
    "\n",
    "$\\mathbb{T}2 = \\mathbb{V} | (\\mathbb{T}2 \\to \\mathbb{T}2) | (\\Pi \\mathbb{V} : * . \\mathbb{T}2)$ \"All types\"\n",
    "\n",
    "$\\Lambda_{\\mathbb{T}2} = V | (\\Lambda_{\\mathbb{T}2} \\Lambda_{\\mathbb{T}2}) | (\\Lambda_{\\mathbb{T}2} \\mathbb{T}2) | (\\lambda V : \\mathbb{T}2 . \\Lambda_{\\mathbb{T}2}) | (\\lambda \\mathbb{V} : * . \\Lambda_{\\mathbb{T}2})$"
   ]
  },
  {
   "cell_type": "markdown",
   "metadata": {},
   "source": [
    "* Outermost parentheses may be omitted.\n",
    "* Application is left-associative. \n",
    "* Application and $\\to$ take precedence over both $\\lambda$- and $\\Pi$-abstraction.\n",
    "* Successive $\\lambda$- or $\\Pi$-abstractions concerning the same types may be combined in a right-associative way.\n",
    "* Arrow types are denoted in a right-associative way.\n",
    "\n",
    "Example: $(\\Pi \\alpha : * . (\\Pi \\beta : * . (\\alpha \\to (\\beta \\to \\alpha)))) \\equiv \\Pi \\alpha : * . (\\Pi \\beta : * . (\\alpha \\to (\\beta \\to \\alpha))) \\equiv \\Pi \\alpha, \\beta : * . (\\alpha \\to (\\beta \\to \\alpha)) \\equiv \\Pi \\alpha, \\beta : * . \\alpha \\to \\beta \\to \\alpha$"
   ]
  },
  {
   "cell_type": "markdown",
   "metadata": {},
   "source": [
    "Statement: $M : \\sigma$ where $M \\in \\Lambda_{\\mathbb{T}2}$ and $\\sigma \\in \\mathbb{T}2$, or $\\sigma : *$ where $\\sigma \\in \\mathbb{T}2$ \n",
    "\n",
    "Declaration: Statement with a term variable or a type variable as subject.\n",
    "\n",
    "All variables must be declared before they can be used -> We know the types of all variables before we use them. "
   ]
  },
  {
   "cell_type": "markdown",
   "metadata": {},
   "source": [
    "$\\alpha : *, \\beta : *, x : \\alpha \\to \\beta$"
   ]
  },
  {
   "cell_type": "markdown",
   "metadata": {},
   "source": [
    "Domain: $\\text{dom}$\n",
    "\n",
    "1. $\\{\\}$ is a $\\lambda 2$-context: $\\text{dom}(\\{\\}) = ()$\n",
    "2. If $\\Gamma$ is a $\\lambda 2$-context, $\\alpha \\in \\mathbb{V}$ and $\\alpha \\notin \\text{dom}(\\Gamma)$, then $\\Gamma, \\alpha : *$ is a $\\lambda 2$ context: $\\text{dom}(\\Gamma, \\alpha : *) = (\\text{dom}(\\Gamma), \\alpha)$\n",
    "3. If $\\Gamma$ is a $\\lambda 2$-context, if $\\rho \\in \\mathbb{T}2$ s.t. $\\alpha \\in \\text{dom}(\\Gamma)$ for all free type variables $\\alpha$ occurring in $\\rho$ and if $x \\notin \\text{dom}(\\Gamma)$, then $\\Gamma, x : \\rho$ is a $\\lambda 2$ context: $\\text{dom}(\\Gamma, x : \\rho) = (\\text{dom}(\\Gamma), x)$"
   ]
  },
  {
   "cell_type": "markdown",
   "metadata": {},
   "source": [
    "(var) $\\Gamma \\vdash x : \\sigma$ if $\\Gamma$ is a $\\lambda 2$-context and $x : \\sigma \\in \\Gamma$\n",
    "\n",
    "(appl) $(\\Gamma \\vdash M : \\sigma \\to \\tau) \\land (\\Gamma \\vdash N : \\sigma) \\implies (\\Gamma \\vdash MN : \\tau)$\n",
    "\n",
    "(abst) $(\\Gamma, x : \\sigma \\vdash M : \\tau) \\implies (\\Gamma \\vdash \\lambda x : \\sigma . M : \\sigma \\to \\tau)$\n",
    "\n",
    "(form) $\\Gamma \\vdash B : *$ if $\\Gamma$ is a $\\lambda 2$-context, $B \\in \\mathbb{T}2$ and all free type variables in B are declared in $\\Gamma$\n",
    "\n",
    "(appl_2) $(\\Gamma \\vdash M : (\\Pi \\alpha : * . A)) \\land (\\Gamma \\vdash B : *) \\implies (\\Gamma \\vdash MB : A[\\alpha := B])$\n",
    "\n",
    "(abst_2) $(\\Gamma, \\alpha : * \\vdash M : A) \\implies (\\Gamma \\vdash \\lambda \\alpha : * . M : \\Pi \\alpha : * . A)$"
   ]
  },
  {
   "cell_type": "markdown",
   "metadata": {},
   "source": [
    "Legal term if there exists a $\\lambda 2$-context $\\Gamma$ and a type $\\rho$ in $\\mathbb{T}2$ s.t. $\\Gamma \\vdash M : \\rho$"
   ]
  },
  {
   "cell_type": "markdown",
   "metadata": {},
   "source": [
    "### 3.5. Example of a derivation in $\\lambda 2$"
   ]
  },
  {
   "cell_type": "markdown",
   "metadata": {},
   "source": [
    "(a) $\\alpha : *$\n",
    "\n",
    "* (b) $f : \\alpha \\to \\alpha$\n",
    "\n",
    "* * (c) $x : \\alpha$\n",
    "\n",
    "* * * (j) $f x : \\alpha$ (appl) on (b) and (c) \n",
    "\n",
    "* * * (k) $f(f x) : \\alpha$ (appl) on (i) and (j)\n",
    "\n",
    "* * (l) $\\lambda x : \\alpha . f(f x) : \\alpha \\to \\alpha$ (abst) on (k)\n",
    "\n",
    "* (m) $\\lambda f : \\alpha \\to \\alpha . \\lambda x : \\alpha . f(f x) : (\\alpha \\to \\alpha) \\to \\alpha \\to \\alpha$ (abst) on (l)\n",
    "\n",
    "(n) $\\lambda \\alpha : * . \\lambda f : \\alpha \\to \\alpha . \\lambda x : \\alpha . f(f x) : \\Pi \\alpha : * . (\\alpha \\to \\alpha) \\to \\alpha \\to \\alpha$ (abst_2) on (m)"
   ]
  },
  {
   "cell_type": "markdown",
   "metadata": {},
   "source": [
    "### 3.6. Properties of $\\lambda 2$\n",
    "\n",
    "1. Renaming of\n",
    "    1. A term variable: $\\lambda x : \\sigma . M \\equiv_\\alpha \\lambda y : \\sigma . M^{x \\to y}$ if $y \\notin FV(M)$ and y does not occur as a binding variable in M.\n",
    "    1. A type variable: \n",
    "        * $\\lambda \\alpha : * . M \\equiv_\\alpha \\lambda \\beta : * . M[\\alpha := \\beta]$ if $\\beta$ does not occur in M\n",
    "        * $\\Pi \\alpha : * . M \\equiv_\\alpha \\Pi \\beta : * . M[\\alpha := \\beta]$ if $\\beta$ does not occur in M\n",
    "2. Compatibility\n",
    "3. Reflexivity\n",
    "4. Symmetry\n",
    "5. Transitivity"
   ]
  },
  {
   "cell_type": "markdown",
   "metadata": {},
   "source": [
    "1. First order basis: $(\\lambda x : \\sigma . M)N \\to_\\beta M[x := N]$\n",
    "2. Second order basis: $(\\lambda \\alpha : * . M)T \\to_\\beta M[\\alpha := T]$\n",
    "3. Compatibility: As in previous definitions"
   ]
  },
  {
   "cell_type": "markdown",
   "metadata": {},
   "source": [
    "Valid lemmas and theorems holding for $\\lambda 2$:\n",
    "\n",
    "* Free Variables Lemma\n",
    "* Thinning Lemma\n",
    "* Condensing Lemma\n",
    "* Generation Lemma\n",
    "* Subterm Lemma\n",
    "* Uniqueness of Types\n",
    "* Subsitution Lemma\n",
    "* Church-Rosser Theorem\n",
    "* Subject Reduction\n",
    "* Strong Normalization Theorem"
   ]
  }
 ],
 "metadata": {
  "language_info": {
   "name": "python"
  }
 },
 "nbformat": 4,
 "nbformat_minor": 2
}
