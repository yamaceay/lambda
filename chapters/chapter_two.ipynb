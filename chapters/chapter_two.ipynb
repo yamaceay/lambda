{
 "cells": [
  {
   "cell_type": "markdown",
   "metadata": {},
   "source": [
    "### 2.2. Simple Types"
   ]
  },
  {
   "cell_type": "markdown",
   "metadata": {},
   "source": [
    "$\\mathbb{V}$ is the set of all type variables\n",
    "\n",
    "$\\mathbb{T}$ is the set of all simple types, defined recursively:\n",
    "* $\\mathbb{T} = \\mathbb{V} | \\mathbb{T} \\to \\mathbb{T}$ (arrow types represent the function types)\n",
    "\n",
    "1. Greek letters are used\n",
    "2. Outermost parentheses are omitted\n",
    "3. Parentheses in arrow types are right-associative, think of Curried functions returning partial functions each time: $\\alpha_1 \\to \\alpha_2 \\to \\alpha_3 \\equiv (\\alpha_1 \\to (\\alpha_2 \\to \\alpha_3))$"
   ]
  },
  {
   "cell_type": "markdown",
   "metadata": {},
   "source": [
    "$M : \\sigma$ means \"term M has type $\\sigma$\"\n",
    "\n",
    "Each variable has a unique type, also $(x : \\sigma \\land x : \\tau \\to \\sigma \\equiv \\tau)$"
   ]
  },
  {
   "cell_type": "markdown",
   "metadata": {},
   "source": [
    "Application ($M N$):\n",
    "* We have to know the types of $M$ and $N$\n",
    "* $M$ should have a function type, say $\\sigma \\to \\tau$ \n",
    "* $N$ should be a proper input for this function type, say $\\sigma$\n",
    "* The result of $M N$ should clearly be $\\tau$\n",
    "\n",
    "$M : \\sigma \\to \\tau, N : \\sigma, M N : \\tau$\n",
    "\n",
    "Abstraction ($\\lambda x . M$):\n",
    "* Assume that $x$ has type $\\sigma$\n",
    "* $M$ has type $\\tau$\n",
    "* Then, the function $\\lambda x . M$ has type $\\sigma \\to \\tau$\n",
    "\n",
    "$x : \\sigma, M : \\tau, \\lambda x . M : \\sigma \\to \\tau$"
   ]
  },
  {
   "cell_type": "markdown",
   "metadata": {},
   "source": [
    "Typable term: A term M is called typable if there is a type $\\sigma$ s.t. $M : \\sigma$"
   ]
  },
  {
   "cell_type": "markdown",
   "metadata": {},
   "source": [
    "Application left-associative, arrow right-associative\n",
    "\n",
    "If $x : \\rho, y : \\sigma$, then:\n",
    "* Let $f : \\rho \\to \\sigma \\to \\tau$. It means: $\\rho \\to (\\sigma \\to \\tau)$\n",
    "* Let $f x : \\sigma \\to \\tau$. It is a partial function.\n",
    "* Let $f x y : \\tau$. It is written as $(f x) y$ instead of $f (x y)$."
   ]
  },
  {
   "cell_type": "markdown",
   "metadata": {},
   "source": [
    "### 2.3. Church-typing and Curry-typing"
   ]
  },
  {
   "cell_type": "markdown",
   "metadata": {},
   "source": [
    "1. Explicit typing (Church typing): Prescribe a unique type for each variable upon its introduction. Take the restrictions on typability of applications into account whilst defining more complex types and terms.\n",
    "\n",
    "    * e.g. $x : \\alpha \\to \\alpha, y : (\\alpha \\to \\alpha) \\to \\beta \\implies y x : \\beta$\n",
    "\n",
    "2. Implicit typing (Curry typing): Give the types of variables, but to leave them open o some extent. Find typable terms by a search process, containing guesses for the types of the variables.\n",
    "\n",
    "    * e.g. $M \\equiv (\\lambda z u . z)(y z)$ without type declarations. \n",
    "    * Say $z : A$ and $u : B$, then $(\\lambda z u . z) : A \\to B \\to A$. \n",
    "    * The input $y x$ is of type $A$ and $M$ is a term of type $B \\to A$. \n",
    "    * You can also assume further that $x : D$, then $y : D \\to A$\n",
    "    * Using this schema, we can fill the types by e.g. $A \\equiv \\alpha, B \\equiv \\beta, D \\equiv \\gamma$"
   ]
  },
  {
   "cell_type": "markdown",
   "metadata": {},
   "source": [
    "Type declaration of variables:\n",
    "* Bound variables: Immediately after their introduction following a $\\lambda$\n",
    "* Free variables: In a so-called context, in an order that may be chosen at will.\n",
    "\n",
    "For example: \n",
    "* Given the context $x : \\alpha \\to \\beta, y : \\alpha, M : \\beta \\to \\gamma$ \n",
    "* The term $(\\lambda z : \\beta . M z)(x y)$ has type $\\gamma$\n",
    "* Derivability shown as: Context $\\vdash$ Typable term"
   ]
  },
  {
   "cell_type": "markdown",
   "metadata": {},
   "source": [
    "$\\beta$-reduction for typed terms:\n",
    "\n",
    "* $(\\lambda z : \\beta . \\lambda u : \\gamma . z)(y x) \\to_\\beta \\lambda u : \\gamma . y x$\n",
    "* given $x : \\alpha \\to \\alpha, y : (\\alpha \\to \\alpha) \\to \\beta \\vdash \\lambda u : \\gamma . y x : \\gamma \\to \\beta$"
   ]
  },
  {
   "cell_type": "markdown",
   "metadata": {},
   "source": [
    "### 2.4. Derivation Rules for Church's $\\lambda\\to$"
   ]
  },
  {
   "cell_type": "markdown",
   "metadata": {},
   "source": [
    "Pre-typed $\\lambda$-terms $\\Lambda_{\\mathbb{T}} = V | (\\Lambda_{\\mathbb{T}} \\Lambda_{\\mathbb{T}}) | (\\lambda V : \\mathbb{T} . \\Lambda_{\\mathbb{T}})$"
   ]
  },
  {
   "cell_type": "markdown",
   "metadata": {},
   "source": [
    "Definitions:\n",
    "* Statement: $M : \\sigma$ with\n",
    "    * Subject: $M \\in \\Lambda_{\\mathbb{T}}$\n",
    "    * Type: $\\sigma \\in \\mathbb{T}$\n",
    "* Declaration: Statement with a variable as subject\n",
    "* Context: List of declarations with different subjects\n",
    "* Judgement: $\\Gamma \\vdash M : \\sigma$ with\n",
    "    * Context: $\\Gamma$\n",
    "    * Statement: $M : \\sigma$"
   ]
  },
  {
   "cell_type": "markdown",
   "metadata": {},
   "source": [
    "Derivation rules for $\\lambda\\to$:\n",
    "\n",
    "Var: $\\Gamma \\vdash x : \\sigma \\text{ if } x : \\sigma \\in \\Gamma$\n",
    "\n",
    "* Each declaration which occurs in the context is derivable with respect to that context. The rule has no premises, it can be used as the start of a derivation.\n",
    "\n",
    "Appl: $\\frac{(\\Gamma \\vdash M : \\sigma \\to \\tau), (\\Gamma \\vdash N : \\sigma)}{\\Gamma \\vdash M N : \\tau}$\n",
    "\n",
    "* If M has a function type $\\sigma \\to \\tau$ with respect to a certain context $\\Gamma$ and N has a type $\\sigma$ with respect to the same context, then the application $M N$ has type $\\tau$ w.r.t. $\\Gamma$.\n",
    "\n",
    "Abst: $\\frac{\\Gamma, x : \\sigma \\vdash M : \\tau}{\\Gamma \\vdash \\lambda x : \\sigma . M : \\sigma \\to \\tau}$\n",
    "\n",
    "* In the premiss, the list $\\Gamma$ is extended with the declaration $x : \\sigma$. If $M$ has type $\\tau$ w.r.t. the extended context, then $\\lambda x : \\sigma . M$ has type $\\sigma \\to \\tau$ w.r.t. $\\Gamma$ only. Typing is no longer necessary in the conclusion, because x has become a bound variable in this expression and gets its type within that term. "
   ]
  },
  {
   "cell_type": "markdown",
   "metadata": {},
   "source": [
    "Example:\n",
    "\n",
    "$(1) y : \\alpha \\to \\beta, z : \\alpha \\vdash y : \\alpha \\to \\beta (var)\\\\ \n",
    "(2) y : \\alpha \\to \\beta, z : \\alpha \\vdash z : \\alpha (var)\\\\\n",
    "(3) y : \\alpha \\to \\beta, z : \\alpha \\vdash yz : \\beta (appl) on (1) and (2)\\\\\n",
    "(4) y : \\alpha \\to \\beta \\vdash \\lambda z : \\alpha . y z : \\alpha \\to \\beta (abst) on (3)\\\\\n",
    "(5) \\{\\} \\vdash \\lambda y : \\alpha \\to \\beta . \\lambda z : \\alpha . y z : (\\alpha \\to \\beta) \\to \\alpha \\to \\beta (abst) on (4)$"
   ]
  },
  {
   "cell_type": "markdown",
   "metadata": {},
   "source": [
    "Two directions of derivability:\n",
    "1. Top down: Covered by the premisses, derive the more complex conclusions.\n",
    "2. Bottom up: Try to find types for more elementary terms and see whether they match."
   ]
  },
  {
   "cell_type": "markdown",
   "metadata": {},
   "source": [
    "Mathematics:\n",
    "\n",
    "func-appl: $\\frac{x : \\alpha, f : \\alpha \\to \\beta}{f x : \\beta}$\n",
    "\n",
    "func-abst: $\\frac{x : \\alpha, f x : \\beta}{f : \\alpha \\to \\beta}$\n",
    "\n",
    "Logic:\n",
    "\n",
    "$\\implies$-elim: $\\frac{A \\implies B, A}{B}$\n",
    "\n",
    "$\\implies$-intro: $\\frac{A \\to B}{A \\implies B}$"
   ]
  },
  {
   "cell_type": "markdown",
   "metadata": {},
   "source": [
    "A pre-typed term M in $\\lambda\\to$ is called legal if there exist context $\\Gamma$ and type $\\rho$ s.t. $\\Gamma \\vdash M : \\rho$"
   ]
  },
  {
   "cell_type": "markdown",
   "metadata": {},
   "source": [
    "### 2.5. Different formats for a derivation in $\\lambda\\to$\n",
    "\n",
    "Tree structure makes the whole proof look more complicated. Instead, use linear ordering as shown in a previous example. Note that the order of judgements are not necessarily fixed. But: Dependencies between judgements in a derivation can be characterized as being a strict partial order:\n",
    "* irreflexive: No judgement precedes itself\n",
    "* asymmetric: If one precedes another, then not the other way round\n",
    "* transitive: If one precedes another and the other precedes a third, then the first precedes the third\n",
    "\n",
    "Flat notation: The premises are repeated multiple times, so use flags to indicate whether a premise has already been used.\n",
    "\n",
    "* (a) $y : \\alpha \\to \\beta$\n",
    "    * (b) $z : \\alpha$ \n",
    "        * (1) $y : \\alpha \\to \\beta$  (var) on (a)\n",
    "        * (2) $z : \\alpha$ (var) on (b)\n",
    "        * (3) $yz : \\beta$ (appl) on (1) and (2)\n",
    "    * (4) $\\lambda z : \\alpha . y z : \\alpha \\to \\beta$ (abst) on (3)\n",
    "* (5) $\\lambda y : \\alpha \\to \\beta . \\lambda z : \\alpha . y z : (\\alpha \\to \\beta) \\to \\alpha \\to \\beta$ (abst) on (4)\n",
    "\n",
    "Var rules might be silenced as well, then:\n",
    "\n",
    "* (a) $y : \\alpha \\to \\beta$\n",
    "    * (b) $z : \\alpha$ \n",
    "        * (1) $yz : \\beta$ (appl) on (a) and (b)\n",
    "    * (2) $\\lambda z : \\alpha . y z : \\alpha \\to \\beta$ (abst) on (1)\n",
    "* (3) $\\lambda y : \\alpha \\to \\beta . \\lambda z : \\alpha . y z : (\\alpha \\to \\beta) \\to \\alpha \\to \\beta$ (abst) on (2)"
   ]
  },
  {
   "cell_type": "markdown",
   "metadata": {},
   "source": [
    "### 2.6. - 2.9. Kinds of Problems to Be Solved in Type Theory\n",
    "\n",
    "First problem is Well-typedness ($? \\vdash \\text{term} : ?$): Find out whether a term is legal. Find an appropriate context and type if the term is indeed legal, and if not so, show where it goes wrong.\n",
    "\n",
    "1. Type assignment ($\\text{context} \\vdash \\text{term} : ?$): Given a context, find a type for a term. Decidable.\n",
    "\n",
    "2. Type checking ($\\text{context} \\overset{?}{\\vdash} \\text{term} : \\text{type}$): Check that a certain term has a certain type in a certain context. Decidable.\n",
    "\n",
    "3. Term finding ($\\text{context} \\vdash ? : \\text{type}$) Given a context and a type, find out whether a term exists with that type, corresponding to that specific context. Undecidable.\n",
    "\n",
    "4. Special case of (3): Set $\\text{context} = \\{\\}$. This is equivalent to the provability of $\\text{type}$.\n",
    "\n",
    "In general, different derivations exist for showing that a particular term is legal, e.g. we can take any $\\Gamma$ as a start of the above derivation, instead of $\\{\\}$. Moreover, some lines may be interchanged. There are many other reasons why derivations for the legality of a given term may vary, such as repetitions and detours, but also more essential differences may occur between derivations of the same term."
   ]
  },
  {
   "cell_type": "markdown",
   "metadata": {},
   "source": [
    "A proof in Type Checking can be read as follows (PAT-interpretation, Propositions-as-Types, Proofs-as-Terms):\n",
    "\n",
    "(a) Assume that x is a proof of proposition A\n",
    "\n",
    "(b) Assume that y is a proof of proposition B\n",
    "\n",
    "(1) Then x is still a proof of A\n",
    "\n",
    "(2) So the function mapping y to x sends a proof of B to a proof of A, i.e. $\\lambda y : B . x$ proves the implication $B \\to A$\n",
    "\n",
    "(3) Consequently, $\\lambda x : A . \\lambda y : B . x$ proves $A \\to B \\to A$"
   ]
  },
  {
   "cell_type": "markdown",
   "metadata": {},
   "source": [
    "An abstraction is a complete coding of the proof: the term implicity includes the proposition it proves, since this is its type, being computable by the decidability of Well-typedness.\n",
    "\n",
    "In Well-typedness and Type Checking, the method:\n",
    "1. Start with a term (positioned on the lower-left-hand side)\n",
    "2. Successively replace it by simpler terms until it can be typed (upwards)\n",
    "3. Calculate other types (downwards), until finally the type of the original term has been derived.\n",
    "\n",
    "In Term Finding, the method:\n",
    "1. Start with a type\n",
    "2. Replace it by simpler types until finding a term inhabiting such a type\n",
    "3. Construct terms corresponding to the types, until obtaining a term which inhabits the original type."
   ]
  },
  {
   "cell_type": "markdown",
   "metadata": {},
   "source": [
    "### 2.10. General Properties of $\\lambda\\to$\n",
    "\n",
    "Domain of $\\Gamma$, also $\\text{dom}(\\Gamma)$, is the list $(x_1, …, x_n)$ if $\\Gamma \\equiv x_1 : \\sigma_1, …, x_n : \\sigma_n$\n",
    "\n",
    "Context $\\Gamma'$ is a subcontext of $\\Gamma$ if $\\text{dom}(\\Gamma') \\subseteq \\text{dom}(\\Gamma)$ if all declarations occurring in $\\Gamma'$ also occur in $\\Gamma$ in the same order.\n",
    "\n",
    "Context $\\Gamma'$ is a permutation of context $\\Gamma$ if all declarations in $\\Gamma'$ also occur in $\\Gamma$ and vice versa.\n",
    "\n",
    "If $\\Gamma$ is a context and $\\Phi$ a set of variables, then the projection of $\\Gamma$ on $\\Phi$ is the subcontext $\\Gamma'$ of $\\Gamma$ with $\\text{dom}(\\Gamma') = \\text{dom}(\\Gamma) \\cap \\Phi$"
   ]
  },
  {
   "cell_type": "markdown",
   "metadata": {},
   "source": [
    "If $\\Gamma \\vdash L : \\sigma$ then $FV(L) \\subseteq \\text{dom}(\\Gamma)$: Each free variables x that occurs in L has a type, which is recorded in $\\Gamma$. Therefore, in a judgement, there can be no confusion about the type of any variable whatsoever, since also bound variables get their type, namely upon introduction, behind the binding $\\lambda$. Structural induction:\n",
    "1. (var) $\\Gamma \\vdash x : \\sigma, x : \\sigma \\in \\Gamma$, immediate consequence.\n",
    "2. (appl) $\\Gamma \\vdash MN : \\tau$. $FV(MN) = FV(M) \\cup FV(N)$. $FV(M),FV(N) \\subseteq \\text{dom}(\\Gamma) \\to FV(MN) \\subseteq \\text{dom}(\\Gamma)$.\n",
    "3. (abst) $\\Gamma \\vdash \\lambda x : \\sigma . M : \\sigma \\to \\tau$. $FV(\\lambda x : \\sigma . M) \\subseteq \\text{dom}(\\Gamma)$. Then $\\Gamma, x : \\sigma \\vdash M : \\tau$, then $FV(M) \\subseteq \\text{dom}(\\Gamma) \\cup \\{x\\}$. Then $FV(\\lambda x : \\sigma . M) = FV(M) \\backslash \\{x\\} \\subseteq \\text{dom}(\\Gamma)$"
   ]
  },
  {
   "cell_type": "markdown",
   "metadata": {},
   "source": [
    "Thinning: Let $\\Gamma'$ and $\\Gamma''$ be contexts s.t. $\\Gamma' \\subseteq \\Gamma''$. If $\\Gamma' \\vdash M : \\sigma$, then also $\\Gamma'' \\vdash M : \\sigma$\n",
    "* New subject variables are added to the context, but the types of the old variables remain the same.\n",
    "\n",
    "Condensing: If $\\Gamma \\vdash M : \\sigma$, then also $\\Gamma[FV(M)] \\vdash M : \\sigma$\n",
    "* Premisses which don't occur in the conclusion can be omitted. Adding junk subjects doesn't affect the conclusion.\n",
    "\n",
    "Permutation: If $\\Gamma \\vdash M : \\sigma$ and $\\Gamma'$ is a permutation of $\\Gamma$, then $\\Gamma'$ is also a context and moreover $\\Gamma' \\vdash M : \\sigma$\n",
    "* The order of declarations in a context is irrelevant -> Store as a set, not a list."
   ]
  },
  {
   "cell_type": "markdown",
   "metadata": {},
   "source": [
    "Generation Lemma:\n",
    "\n",
    "1. If $\\Gamma \\vdash x : \\sigma$, then $x : \\sigma \\in \\Gamma$\n",
    "2. If $\\Gamma \\vdash MN : \\tau$, then there is a type $\\sigma$ s.t. $\\Gamma \\vdash M : \\sigma \\to \\tau$ and $\\Gamma \\vdash N : \\sigma$\n",
    "3. If $\\Gamma \\vdash \\lambda x : \\sigma . M : \\rho$, then there is $\\tau$ s.t. $\\Gamma, x : \\sigma \\vdash M : \\tau$ and $\\rho \\equiv \\sigma \\to \\tau$"
   ]
  },
  {
   "cell_type": "markdown",
   "metadata": {},
   "source": [
    "Subterm Lemma: If M is legal, then every subterm is legal as well."
   ]
  },
  {
   "cell_type": "markdown",
   "metadata": {},
   "source": [
    "Uniqueness of Types: Assume $\\Gamma \\vdash M : \\sigma$ and $\\Gamma \\vdash M : \\tau$, then $\\sigma \\equiv \\tau$"
   ]
  },
  {
   "cell_type": "markdown",
   "metadata": {},
   "source": [
    "Decidable problems:\n",
    "* Well-typedness: $? \\vdash \\text{term} : ?$\n",
    "    * Type Assignment: $\\text{context} \\vdash \\text{term} : ?$\n",
    "* Type Checking: $\\text{context} \\overset{?}{\\vdash} \\text{term} : \\text{type}$\n",
    "* Term Finding: $\\text{context} \\vdash ? : \\text{type}$"
   ]
  },
  {
   "cell_type": "markdown",
   "metadata": {},
   "source": [
    "### 2.11. Reduction and $\\lambda\\to$"
   ]
  },
  {
   "cell_type": "markdown",
   "metadata": {},
   "source": [
    "Substitution:\n",
    "\n",
    "$(\\lambda y : \\sigma . P)[x := N] \\equiv \\lambda z : \\sigma . (P^{y \\to z}[x := N])$ if $\\lambda z : \\sigma . P^{y \\to z}$ is an $\\alpha$-variant of $\\lambda y : \\sigma . P$ s.t. $z \\notin FV(N)$"
   ]
  },
  {
   "cell_type": "markdown",
   "metadata": {},
   "source": [
    "Substitution Lemma: Assume $\\Gamma', x : \\sigma, \\Gamma'' \\vdash M : \\tau$ and $\\Gamma' \\vdash N : \\sigma$. Then $\\Gamma', \\Gamma'' \\vdash M[x := N] : \\tau$\n",
    "\n",
    "If we substitute in a legal term M all occurrences of context variable x by a term N of the same type as x, then the result keeps the same type as M had. Observations:\n",
    "* $x$ does not occur free in $N$ -> in $M[x := N]$ as well"
   ]
  },
  {
   "cell_type": "markdown",
   "metadata": {},
   "source": [
    "Proof of Lemma (structural induction on M focused on abstraction):\n",
    "* $M \\equiv \\lambda u : \\rho . L$\n",
    "* Then $\\tau \\equiv \\rho \\to \\gamma$ and $\\Gamma', x : \\sigma, \\Gamma'', u : \\rho \\vdash L : \\gamma$\n",
    "* $u$ cannot be a subject variable in $\\Gamma'$. \n",
    "* Hence, since $\\Gamma' \\vdash N : \\sigma$ -> $u \\notin FV(N)$\n",
    "* $\\Gamma', \\Gamma'', u : \\rho \\vdash L[x := N] : \\gamma$\n",
    "* Then $\\Gamma', \\Gamma'' \\vdash \\lambda u : \\rho . (L[x := N]) : \\rho \\to \\gamma$\n",
    "* Then $\\Gamma', \\Gamma'' \\vdash (\\lambda u : \\rho . L)[x := N] : \\rho \\to \\gamma$\n",
    "* Hence $\\Gamma', \\Gamma'' \\vdash M[x := N] : \\tau$"
   ]
  },
  {
   "cell_type": "markdown",
   "metadata": {},
   "source": [
    "One-step $\\beta$-reduction for $\\Lambda_\\mathbb{T}$\n",
    "* Basis: $(\\lambda x : \\sigma . M) N \\to_\\beta M[x := N]$\n",
    "* Compatibility (similarly, but with a remark: $\\lambda x : \\tau . M \\to_\\beta \\lambda x : \\tau . N$)"
   ]
  },
  {
   "cell_type": "markdown",
   "metadata": {},
   "source": [
    "Suppose that $M \\equiv_\\beta N$. Then there is L s.t. $M \\twoheadrightarrow_\\beta L$ and $N \\twoheadrightarrow_\\beta L$"
   ]
  },
  {
   "cell_type": "markdown",
   "metadata": {},
   "source": [
    "Subject Reduction: If $\\Gamma \\vdash L : \\rho$ and $L \\twoheadrightarrow_\\beta L'$, then $\\Gamma \\vdash L' : \\rho$. Proof:\n",
    "1. Basis: $L \\equiv (\\lambda x : \\sigma . M)N, L' \\equiv M[x := N]$. \n",
    "    * No assumptions, so induction does not apply.\n",
    "    * $\\Gamma \\vdash \\lambda x : \\sigma . M : \\tau \\to \\rho$ and $\\Gamma \\vdash N : \\tau$\n",
    "    * There exists a $\\varphi$ s.t. $\\Gamma, x : \\sigma \\vdash M :\\varphi$ and $\\tau \\to \\rho$ and $\\sigma \\to \\varphi$.\n",
    "    * Then $\\tau \\equiv \\sigma$ and $\\rho \\equiv \\varphi$.\n",
    "    * $\\Gamma, x : \\sigma \\vdash M : \\rho$ and $\\Gamma \\vdash N : \\sigma$\n",
    "    * Then $\\Gamma \\vdash M[x := N] : \\rho$ \n",
    "2. Compatibility:\n",
    "    1. $L \\equiv MK, L' \\equiv M'K$\n",
    "    2. $L \\equiv KM, L' \\equiv KM'$\n",
    "    3. $L \\equiv \\lambda x : \\tau . M, L' \\equiv \\lambda x : \\tau . M'$\n"
   ]
  },
  {
   "cell_type": "markdown",
   "metadata": {},
   "source": [
    "Strong Normalization Theorem: There are no infinite reduction sequences in $\\lambda\\to$: every calculation is finite."
   ]
  },
  {
   "cell_type": "markdown",
   "metadata": {},
   "source": [
    "### 2.12. Consequences\n",
    "\n",
    "1. There is no self-application in $\\lambda\\to$. \n",
    "    * Assume that $M M$ is a legal term in $\\lambda\\to$.\n",
    "    * Then there are $\\Gamma$ and $\\tau$ s.t. $\\Gamma \\vdash M M : \\tau$. \n",
    "    * Then there is a type $\\sigma$ s.t. $\\Gamma \\vdash M : \\sigma \\to \\tau$ and $\\Gamma \\vdash M : \\sigma$.\n",
    "    * Then $\\sigma \\to \\tau \\equiv \\sigma$. But no function can be equal to its own left-hand side\n",
    "\n",
    "2. Existence of $\\beta$-normal forms is guaranteed.\n",
    "    * See Strong normalization theorem\n",
    "3. Not every legal $\\lambda$-term has a fixed point.\n",
    "    * $M \\equiv (\\lambda x . L(x x))(\\lambda x . L(x x))$ is no longer legal due to self-application (and double arguments).\n",
    "    * Take $\\Gamma \\vdash F : \\sigma \\to \\tau$ for example.\n",
    "    * Assume that $FM \\equiv_\\beta M$ where $FM$ and $M$ are legal\n",
    "    * $M$ has type $\\sigma$. Appl rule -> $FM$ has type $\\tau$\n",
    "    * There must be $N$ s.t. $FM \\twoheadrightarrow_\\beta N$ and $M \\twoheadrightarrow_\\beta N$. \n",
    "    * $\\Gamma \\vdash N : \\tau$ and $\\Gamma \\vdash N : \\sigma$. Contradiction to uniqueness of types."
   ]
  },
  {
   "cell_type": "markdown",
   "metadata": {},
   "source": [
    "### 2.13. Conclusions"
   ]
  },
  {
   "cell_type": "markdown",
   "metadata": {},
   "source": [
    "Only negative consequence: The system $\\lambda\\to$ is much too weak to encapsulate all computable functions and is hence not useable for the formalisation of mathematics.\n",
    "* Solution: Extend it to more powerful systems of typed lambda calculus. More complex types, suitable for more realistic situations"
   ]
  },
  {
   "cell_type": "markdown",
   "metadata": {},
   "source": []
  }
 ],
 "metadata": {
  "language_info": {
   "name": "python"
  }
 },
 "nbformat": 4,
 "nbformat_minor": 2
}
