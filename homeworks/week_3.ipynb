{
 "cells": [
  {
   "cell_type": "markdown",
   "metadata": {},
   "source": [
    "* Fixed Point Combinators\n",
    "    * A fixed point $x$ of a function $f$ fulfills the condition $x = f(x)$\n",
    "    * A functional $L$ which takes in a function returns the fixed point: $Y f = x$. \n",
    "    * Then $Y f = f(Y f)$ must be satisfied. \n",
    "* After Remark 1.10.2, it is said that YL is a fixed point of L. Check whether YL →β L(YL).\n",
    "    * $YL \\to_\\beta (\\lambda x . L(x x))(\\lambda x . L(x x)) \\to_\\beta L((\\lambda x . L(x x))(\\lambda x . L(x x))) \\equiv_\\beta L(YL)$ \n",
    "* Closely check Examples 1.10.3 ...\n",
    "    * $LM \\equiv_\\beta \\lambda x . x M x, L := \\lambda y . (\\lambda x . x y x), LM \\to_\\beta M$. Find such $M$. \n",
    "* Write down for yourself, in how far at the end of § 1.10, \"the desired 'fac' can be solved ...\"\n",
    "    * $\\text{fac} \\equiv_\\beta \\lambda x . \\text{if } (\\text{iszero } x) \\text{ then } 1 \\text{ else } \\text{mult } x (\\text{fac } (\\text{pred } x))$\n",
    "    * $\\text{FAC} \\triangleq \\lambda f . \\lambda x . \\text{if } (\\text{iszero } x) \\text{ then } 1 \\text{ else } \\text{mult } x (\\text{f } (\\text{pred } x))$\n",
    "    * $\\text{Y FAC} \\equiv_\\beta \\text{FAC}(\\text{Y FAC})$\n",
    "    * $\\text{fac} \\triangleq \\text{Y FAC}$\n",
    "    * $\\text{fac} 1 \\to_\\beta (\\text{Y FAC}) 1 \\twoheadrightarrow_\\beta (\\lambda x . \\text{FAC} (x x))(\\lambda x . \\text{FAC} (x x)) 1 \\equiv \\text{FAC}((\\lambda x . \\text{FAC} (x x))(\\lambda x . \\text{FAC} (x x))) 1 \\twoheadrightarrow_\\beta \\text{FAC} (\\text{Y FAC})1 \\equiv_\\beta \\text{if } (\\text{iszero } 1) \\text{ then } 1 \\text{ else } \\text{mult } 1 (\\text{Y FAC} (\\text{pred } 1)) \\equiv_\\beta \\text{mult } 1 (\\text{Y FAC} (\\text{pred } 1)) \\equiv_\\beta \\text{mult } 1 (\\text{fac} (0))$\n",
    "* Crashcourse: \n",
    "    * $U = \\lambda z x . x( z z x), Z = U U$\n",
    "    * $Z M \\equiv (U U) M \\equiv ((\\lambda z . \\lambda x . x (z z x))U)M \\to_\\beta (\\lambda x . x UU x)M \\to_\\beta M UU M \\to_\\beta M(Z M)$\n",
    "* Example: \n",
    "    * $true := \\lambda x y . x, false := \\lambda x y . y, not := \\lambda z . z false true, not p := p false true, not (not p) = (p false true) false true$\n",
    "    * If $p \\twoheadrightarrow_\\beta true$: $(p false true) false true \\to_\\beta^2 false false true \\to_\\beta^2 true$\n",
    "    * If $p \\twoheadrightarrow_\\beta false$: $(p false true) false true \\to_\\beta^2 true false true \\to_\\beta^2 false$\n",
    "    * Since $if x then u else v := \\lambda x . x u v$ and $(\\lambda x . x u v)true \\to_\\beta true u v \\to_\\beta^2 u$ and vice versa.\n",
    "* Well digest Remark 2.2.4 ...\n",
    "* Right after this Remark, you will see σ≡τ. Is this obvious? \n",
    "* Is it well-defined?\n",
    "* Remark 2.2.8 is quite useful. Check how it relates to the * right associativity of successive λ-abstractions on p 8.\n",
    "* Carefully walk through Examples 2.3.1 ... \n",
    "* Have a guess when the authors use A,B,C,... for types, and when they use α, β, γ,....\n",
    "    * A, B, C are placeholders\n",
    "    * $\\alpha, \\beta, \\gamma$ are real type representatives\n",
    "* On p 38, the second paragraph starting \"Typing à la Curry ...\" together with the third paragraph is important. Internalize it by heart!\n",
    "* Much of what follows (§2.4–5) is about possible presentations of derivations of typing judgements. Read through it very carefully.\n",
    "* As an example: How important is it in Definition 2.4.2 that a context is a list, and not just a set?\n",
    "    * A list structure is needed, if a type depends on another term / type. \n",
    "* Have an emphasis on Examples 2.4.8 and especially 2.4.9!\n",
    "* These prepare for an understanding of the Curry-Howard correspondence.\n",
    "\n",
    "* Exercises on Typability:\n",
    "    * $x x y = (x x) y$ so $x : \\alpha \\to \\beta$ and $x : \\alpha$ but $\\alpha \\not\\equiv \\alpha \\to \\beta$, so it is not possible due to self-application\n",
    "    * $x y y = (x y) y$ so $x : \\alpha \\to \\beta$ and $y : \\alpha$, then $x y : \\beta$. Further assume $x y : \\sigma \\to \\tau$ and $y : \\sigma$. Then $\\alpha \\equiv \\sigma$. Then $x : \\sigma \\to \\beta \\equiv \\sigma \\to \\sigma \\to \\tau$ and it is possible.  "
   ]
  },
  {
   "cell_type": "markdown",
   "metadata": {},
   "source": []
  }
 ],
 "metadata": {
  "language_info": {
   "name": "python"
  }
 },
 "nbformat": 4,
 "nbformat_minor": 2
}
