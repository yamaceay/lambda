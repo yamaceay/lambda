{
 "cells": [
  {
   "cell_type": "markdown",
   "metadata": {},
   "source": [
    "* Think about dropping some of the compatibility rules in Definition 1.8.1 ... what would be the effect?\n",
    "    * There would be functions which would have more than one outcomes, e.g. $\\beta$-reducing the argument then applying the redex to it would be different than applying the redex to the argument and then $\\beta$-reducing. This would also lead to $\\beta$-conversion not being an equivalence class.\n",
    "* On p 16, the notion of redex is introduced as a subterm. \n",
    "* Remember that subterms depend on the chosen representative of an α-equivalence class. \n",
    "* Is a redex \"robust\" w.r.t. α-renaming?\n",
    "    * Consider redex $(\\lambda x : M)N$. Renaming the redex to $(\\lambda y : M^{x \\to y})$ requires that $y$ is not a free or binding variable in $M$. So if this condition is satisfied, it can be renamed without any effect. \n",
    "* Make sure that you understand the difference between β-reduction and β-conversion/β-equality.!\n",
    "    * $\\beta$-conversion is the set of all statements which would have the same outcome regardless of the reduction order. $\\beta$-reduction is just the one-way evaluation of a redex, which can be then abstracted as zero-or-more step reduction.\n",
    "* After Lemma 1.8.6, there is a task \"Check that it also holds that\". Check this. (It is not at all hard.)\n",
    "    * If $M \\twoheadrightarrow_\\beta L_1$ and $M \\twoheadrightarrow_\\beta L_2$ then $L_1 \\equiv_\\beta L_2$\n",
    "    * If $L_1 \\twoheadrightarrow_\\beta N$ and $L_2 \\twoheadrightarrow_\\beta N$ then $L_1 \\equiv_\\beta L_2$\n",
    "    * Both rules can be proven using the transivity property of $\\beta$-conversion. $M \\twoheadrightarrow_\\beta L_1$ leads to $M \\equiv_\\beta L_1$, and according to transitivity, all terms existing on the same equivalence path are equivalent as well.\n",
    "* Really do the Examples 1.9.3.\n",
    "    * $(\\lambda x . (\\lambda y . y x) z ) v \\to_\\beta (\\lambda y . y v) z \\to_\\beta z v$ and $zv$ is in $\\beta$-nf.\n",
    "    * $\\Omega = (\\lambda x . x x)(\\lambda x . x x) \\to_\\beta (\\lambda x . x x)(\\lambda x . x x) \\twoheadrightarrow_\\beta \\Omega$, then it is not in $\\beta$-nf.\n",
    "    * $\\Delta = \\lambda x . x x x$. Then $\\Delta \\Delta \\to_\\beta \\Delta \\Delta \\Delta \\twoheadrightarrow_\\beta \\Delta … \\Delta$, then no term from above is in $\\beta$-nf.\n",
    "    * $(\\lambda u . v)\\Omega$ reduces to $v$ if at any time point, not $\\Omega$ but the first term is reduced.\n",
    "* Try to understand the proof of Theorem 1.9.8 by referring to the handbook article (pp 24-28); the notation used in it is somewhat sloppy, though.\n",
    "* Closely check the proof of Corollary 1.9.9.\n",
    "    * $M \\equiv_\\beta N$, then there is a $L$ s.t. $M \\twoheadrightarrow_\\beta L$ and $N \\twoheadrightarrow_\\beta L$\n",
    "    * If $n = 0$, then $M \\equiv_\\beta L \\equiv_\\beta N$ with zero steps $M \\twoheadrightarrow_\\beta L$ and $N \\twoheadrightarrow_\\beta L$. \n",
    "    * If $n > 0$, let $M \\equiv_\\beta M_0 \\twoheadrightarrow_\\beta M_{k - 1} \\to_\\beta M_k \\equiv_\\beta N$. Then there is an $L'$ s.t. $M_0 \\twoheadrightarrow_\\beta L'$ and $M_{k - 1} \\twoheadrightarrow_\\beta L'$.\n",
    "    * Then $M_{k - 1} \\twoheadrightarrow_\\beta L'$ and $M_{k - 1} \\twoheadrightarrow_\\beta M_k$, then $L' \\equiv_\\beta M_k$\n",
    "    * Compatibility rule: There is a $L$ s.t. $L' \\twoheadrightarrow_\\beta L$ and $M_k \\twoheadrightarrow_\\beta L$.\n",
    "    * Then $M \\twoheadrightarrow_\\beta L$ and $N \\twoheadrightarrow_\\beta L$. \n",
    "* Contemplate about the two statements in the last paragraph of § 1.9 with respect to the possibility of having more than one reduction path starting from a given lambda term.\n",
    "    * If a $\\lambda$-term has an outcome, then this outcome can be reached by forward-calculation ($\\beta$-reduction)\n",
    "    * An outcome of a calculation, if it exists, is unique. There cannot be two different outcomes for one $\\lambda$-term.\n",
    "\n",
    "* Note that there might be more than one possible reduction directions, for example: start with the reduction of leftmost - outermost redex, or leftmost - innermost redex. The quality and the speed of solution might differ, but the final outcome (if there is) should be equivalent. "
   ]
  },
  {
   "cell_type": "markdown",
   "metadata": {},
   "source": [
    " "
   ]
  }
 ],
 "metadata": {
  "language_info": {
   "name": "python"
  }
 },
 "nbformat": 4,
 "nbformat_minor": 2
}
