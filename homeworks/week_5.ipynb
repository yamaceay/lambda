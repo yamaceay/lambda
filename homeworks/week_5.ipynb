{
 "cells": [
  {
   "cell_type": "markdown",
   "metadata": {},
   "source": [
    "* Carefully check that you understand the context of the judgments in Lemma 2.11.1.\n",
    "    * $\\Gamma', x : \\sigma, \\Gamma'' \\vdash M : \\tau$ and $\\Gamma' \\vdash N : \\sigma$ leads to $\\Gamma', \\Gamma'' \\vdash M[x := N]: \\tau$\n",
    "    * Second judgement implies that x does not occur in N as a free variable (see Free Variables Lemma).\n",
    "* Why is it OK for the definition of one-step β-reduction to not require that x and N have the same type?\n",
    "    * Because the types are not required to perform substitution. The types are already declared in the function, and a simple replacement is executed. \n",
    "* Subject Reduction as in Lemma 2.11.5 is at the heart of all type systems. Important!\n",
    "    * Reduction is just a formalization of calculation, and does not (and should not) change the type of a term. \n",
    "* At the end of the proof of Lemma 2.11.5: \"Do the Compatibility cases yourself: Exercise 2.18.\" So, do them.\n",
    "    * Subject Reduction Lemma: If $\\Gamma \\vdash L : \\rho$ and $L \\twoheadrightarrow L'$, then $\\Gamma \\vdash L' : \\rho$\n",
    "    * $L \\equiv MK, L' \\equiv M'K$: Start with $\\Gamma \\vdash MK: \\rho$. Use Generation Lemma to say that there is a $\\sigma$ s.t. $\\Gamma \\vdash M : \\sigma \\to \\rho$ and $\\Gamma \\vdash K : \\sigma$. Using the basis rule, knowing that $M \\to_\\beta M'$, conclude that $\\Gamma \\vdash M' : \\sigma \\to \\rho$. Now, combine the both findings using appl rule and conclude: $\\Gamma \\vdash M'K : \\rho$ as well. \n",
    "    * Same goes for the other direction in the application case.\n",
    "    * In case of abstraction, similarly, start with $\\Gamma \\vdash \\lambda x : \\tau . M : \\rho$. Then, acc. to Generation Lemma, there should be a $\\sigma$ s.t. $\\rho \\equiv \\tau \\to \\sigma$ and $M : \\sigma$, also $\\Gamma, x : \\tau \\vdash M : \\sigma$. Then using the basis rule, we conclude that $\\Gamma, x : \\tau \\vdash M' : \\sigma$ and back using abstraction rule: $\\Gamma \\vdash \\lambda x : \\tau . M' : \\tau \\to \\sigma \\equiv \\Gamma \\vdash \\lambda x : \\tau . M' : \\rho$\n",
    "* Digest § 2.12-14 well.\n",
    "* Write down your questions while reading through § 3.1 ... if I were you, I would have at least one!\n",
    "* Similar to 6, write down your questions while reading through § 3.2 ..."
   ]
  },
  {
   "cell_type": "markdown",
   "metadata": {},
   "source": []
  }
 ],
 "metadata": {
  "language_info": {
   "name": "python"
  }
 },
 "nbformat": 4,
 "nbformat_minor": 2
}
